{
 "cells": [
  {
   "attachments": {},
   "cell_type": "markdown",
   "id": "44a6ee6d",
   "metadata": {},
   "source": [
    "### Data Preparation"
   ]
  },
  {
   "cell_type": "markdown",
   "id": "3b5d6514",
   "metadata": {},
   "source": [
    "Start by preparing the data:\n",
    "\n",
    "0.  Prepare you data to fit the csv format\n",
    "1.  Combine all csv files in one DataFrame\n",
    "2.  Search for excitation frequencies and kick all measurements with f_min > f_min_required and f_max < f_max_required (no extrapolation)\n",
    "3.  Calculate and filter by LinKK\n",
    "4.  Add further informations that are necessary\n",
    "5.  Interpolate all measurements, to have the same frequency points and fransform the DataFrame into its final shape\n",
    "6.  Filter and clean your data, e.g. Temperature > 10000 °C\n",
    "7.  Add information, like ECM fit, DRT fit and extrema in bode and nyquist diagram\n",
    "8.  Save the DataFrame\n",
    "9.  Evaluate the Data Preparation"
   ]
  },
  {
   "cell_type": "code",
   "execution_count": null,
   "id": "c68cf3cc",
   "metadata": {},
   "outputs": [],
   "source": [
    "%matplotlib widget \n",
    "\n",
    "from modules import data_preparation as dp\n",
    "from modules import eisplot as eisplot\n",
    "\n",
    "import numpy as np\n",
    "import pandas as pd\n",
    "\n",
    "from impedance.models.circuits import CustomCircuit\n",
    "from impedance.models.circuits.fitting import rmse\n",
    "\n",
    "cm = 1/2.54  # centimeters in inches\n",
    "\n",
    "## if you have installed latex and want to use it for plots, uncomment the following 2 lines\n",
    "# eisplot.mpl.rcParams.update({\"text.usetex\": True,'savefig.format':'pdf'})\n",
    "# eisplot.mpl.rc('text.latex', preamble=r'\\usepackage{underscore}')\n",
    "\n",
    "## safe figures e.g. with:\n",
    "# plot_name = \"custom_3D_plot\"\n",
    "# eisplot.plt.savefig(r\"./figures/\" + name_of_this_run + \"_\" + plot_name + \".pdf\")\n",
    "# eisplot.plt.savefig(r\"./figures/\" + name_of_this_run + \"_\" + plot_name + \".png\", dpi=600)"
   ]
  },
  {
   "attachments": {},
   "cell_type": "markdown",
   "id": "87f50399",
   "metadata": {},
   "source": [
    "### 0. Input CSV files"
   ]
  },
  {
   "attachments": {},
   "cell_type": "markdown",
   "id": "48488639",
   "metadata": {},
   "source": [
    "We assume that your EIS measurements for each cell are combined in one CSV file and the file name represents the cell name.  \n",
    "The file/cell name later becomes the index column \"cell_ID\" in our DF.  \n",
    "Besides the required values on the left in the table below, any additional parameter can be provided. Here e.g. temperature and SOC, but could also be SOH or any other.  \n",
    "Put all files in a single folder.\n",
    "\n",
    "EIS_measurement_id: &emsp; Integer counter, increase by 1 for each complete spectra  \n",
    "EIS_Frequency:&emsp;&emsp;&emsp;&emsp;&nbsp;In Hertz  \n",
    "EIS_Z_abs:&emsp;&emsp;&emsp;&emsp;&emsp;&emsp;&nbsp;In Ohm  \n",
    "EIS_Z_phase:&emsp;&emsp;&emsp;&emsp;&emsp;&nbsp;In radian\n",
    "\n",
    "<style scoped>\n",
    "table {\n",
    "  font-size: 10px;\n",
    "}\n",
    "</style>\n",
    "\n",
    "| EIS_measurement_id  | EIS_Frequency  | EIS_Z_abs  | EIS_Z_phase  | ...  | Temperature  | SOC      | ...  |\n",
    "| ---                | ---            | ---         | ---           | ---   | ---           | ---       | ---   |\n",
    "| 1                   | 0.01           | 0.02251    | 0.38192      | ...  | 25.03        | 80.01     | ...  |\n",
    "| 1                   | 0.2304          | 0.02341    | 0.32001      | ...  | 25.11        | 80.01     | ...  |\n",
    "| ...                 | ...            | ...        | ...          | ...  | ...          | ...      | ...  |\n",
    "| 2                   | 0.01           | 0.02260    | 0.38246      | ...  | 24.89        | 60.13    | ...  |\n",
    "| 2                   | 0.2304          | 0.02351    | 0.31981      | ...  | 25.02        | 60.13    | ...  |"
   ]
  },
  {
   "attachments": {},
   "cell_type": "markdown",
   "id": "d66d13cf",
   "metadata": {},
   "source": [
    "### 1. Combine all csv files in one DataFrame"
   ]
  },
  {
   "attachments": {},
   "cell_type": "markdown",
   "id": "67d17907",
   "metadata": {},
   "source": [
    "First we search all filenames that contain at least one of the strings from `search_filters`  \n",
    "Furthermore we set a name for this run/evaluation"
   ]
  },
  {
   "cell_type": "code",
   "execution_count": null,
   "id": "6bef16bc",
   "metadata": {},
   "outputs": [],
   "source": [
    "name_of_this_run = \"example_data\"\n",
    "\n",
    "folder_path = r\"./example_input_data/\"\n",
    "search_filters = [\"LiFun_575166-01\"]\n",
    "filenames = dp.search_filenames(folder_path, search_filters)\n",
    "print(filenames)"
   ]
  },
  {
   "attachments": {},
   "cell_type": "markdown",
   "id": "4c1359a3",
   "metadata": {},
   "source": [
    "Now we can read all these files into a single DataFrame:"
   ]
  },
  {
   "cell_type": "code",
   "execution_count": null,
   "id": "b22bf3d1",
   "metadata": {},
   "outputs": [],
   "source": [
    "df = dp.get_df_folder(folder_path, filenames)\n",
    "df = df.sort_values(by=['cell_ID', 'EIS_measurement_id', 'EIS_Frequency'])\n",
    "df"
   ]
  },
  {
   "attachments": {},
   "cell_type": "markdown",
   "id": "11fb128c",
   "metadata": {},
   "source": [
    "### 2. Search for excitation frequencies used most often"
   ]
  },
  {
   "cell_type": "code",
   "execution_count": null,
   "id": "15306076",
   "metadata": {},
   "outputs": [],
   "source": [
    "frequency_groups_df, frequency_groups = dp.get_frequency_groups(df)"
   ]
  },
  {
   "attachments": {},
   "cell_type": "markdown",
   "id": "95330e80",
   "metadata": {},
   "source": [
    "Prefilter the frequency groups by obvious unwanted measurement:\n",
    "\n",
    "$\n",
    "\\mathrm{Lower\\ Frequency\\ Boundary} \\leq \\mathrm{min(}\\rm{EIS}_\\mathrm{Frequency})\n",
    "$  \n",
    "$\n",
    "\\mathrm{Upper\\ Frequency\\ Boundary} \\geq \\mathrm{max(}\\rm{EIS}_\\mathrm{Frequency})\n",
    "$  \n",
    "$\n",
    "\\mathrm{Lower\\ Boundary\\ Frequencies\\ Count} \\leq \\mathrm{length(}\\rm{EIS}_\\mathrm{Frequency} \\mathrm{\\ of\\ one\\ } \\rm{EIS}_\\mathrm{measurement\\ id})\n",
    "$"
   ]
  },
  {
   "cell_type": "code",
   "execution_count": null,
   "id": "38f1294d",
   "metadata": {},
   "outputs": [],
   "source": [
    "lower_frequency_boundary = 10\n",
    "upper_frequency_boundary = 1\n",
    "lower_boundary_frequencies_count = 10\n",
    "\n",
    "\n",
    "group_index_to_delte = []\n",
    "group_index_to_delte = np.unique(np.concatenate(\n",
    "    (frequency_groups_df.index[frequency_groups_df[\"min\"]\n",
    "                               >= lower_frequency_boundary].to_numpy(dtype=int), group_index_to_delte), axis=0))\n",
    "group_index_to_delte = np.unique(np.concatenate(\n",
    "    (frequency_groups_df.index[frequency_groups_df[\"max\"]\n",
    "                               <= upper_frequency_boundary].to_numpy(dtype=int), group_index_to_delte), axis=0))\n",
    "group_index_to_delte = np.unique(np.concatenate(\n",
    "    (frequency_groups_df.index[frequency_groups_df[\"length\"]\n",
    "                               <= lower_boundary_frequencies_count].to_numpy(dtype=int), group_index_to_delte), axis=0))\n",
    "group_index_to_delte = group_index_to_delte.astype('int')\n",
    "if len(group_index_to_delte) > 0:\n",
    "    print(\"Delted: \", np.sum(frequency_groups_df.iloc[group_index_to_delte]['occurrence'].to_numpy()),\n",
    "          \" of \", np.sum(frequency_groups_df['occurrence'].to_numpy()), \" EIS Measurements\")\n",
    "    frequency_groups_df = frequency_groups_df.drop(group_index_to_delte)\n",
    "    frequency_groups = list(\n",
    "        np.delete(np.array(frequency_groups, dtype='object'), group_index_to_delte))"
   ]
  },
  {
   "attachments": {},
   "cell_type": "markdown",
   "id": "57dc155f",
   "metadata": {},
   "source": [
    "Lets get an overview, later we will filter"
   ]
  },
  {
   "cell_type": "code",
   "execution_count": null,
   "id": "50fde4f9",
   "metadata": {},
   "outputs": [],
   "source": [
    "fig, axes = eisplot.plt.subplots(nrows=1, ncols=2, sharey=True, gridspec_kw={'width_ratios': [2, 1]}, figsize=(20*cm, 9*cm))\n",
    "dp.plot_frequency_groups(fig, axes[0], axes[1], frequency_groups, df)"
   ]
  },
  {
   "attachments": {},
   "cell_type": "markdown",
   "id": "f2048cb4",
   "metadata": {},
   "source": [
    "Now we define the final boundaries of the frequencies that should be used."
   ]
  },
  {
   "cell_type": "code",
   "execution_count": null,
   "id": "cc54aa7f",
   "metadata": {},
   "outputs": [],
   "source": [
    "fig, axes = eisplot.plt.subplots(1, 1, sharex=True, figsize=(20*cm, 9*cm))\n",
    "fs_widget = dp.FrequencySelectWidget(axes, fig, df, frequency_groups_df, frequency_groups)"
   ]
  },
  {
   "attachments": {},
   "cell_type": "markdown",
   "id": "25f4afde",
   "metadata": {},
   "source": [
    "Extract the frequencies from the widget, or hardcode a custom set"
   ]
  },
  {
   "cell_type": "code",
   "execution_count": null,
   "id": "63723df2",
   "metadata": {},
   "outputs": [],
   "source": [
    "frequencies = fs_widget.frequencies\n",
    "# frequencies = np.array([0.1,1,10,100,1000])\n",
    "frequencies"
   ]
  },
  {
   "attachments": {},
   "cell_type": "markdown",
   "id": "5f703856",
   "metadata": {},
   "source": [
    "Delete all measurements, that don't cover the chosen range of frequencies"
   ]
  },
  {
   "cell_type": "code",
   "execution_count": null,
   "id": "3ea59453",
   "metadata": {},
   "outputs": [],
   "source": [
    "df = dp.filter_by_frequencies(df, frequencies, lower_boundary_frequencies_count)"
   ]
  },
  {
   "attachments": {},
   "cell_type": "markdown",
   "id": "c777b490",
   "metadata": {},
   "source": [
    "### 3. Calculate and filter by LinKK"
   ]
  },
  {
   "cell_type": "code",
   "execution_count": null,
   "id": "533db280",
   "metadata": {},
   "outputs": [],
   "source": [
    "df = dp.add_linKK(df, linKK_cutoff_mu=.02, linKK_max_M=8, residuals_quantile=1)"
   ]
  },
  {
   "attachments": {},
   "cell_type": "markdown",
   "id": "c0dc8fed",
   "metadata": {},
   "source": [
    "Choose a limit, e.g. < 100 mΩ"
   ]
  },
  {
   "cell_type": "code",
   "execution_count": null,
   "id": "23c42137",
   "metadata": {},
   "outputs": [],
   "source": [
    "fig, axes = eisplot.plt.subplots(nrows=1, ncols=2, sharey=True, gridspec_kw={'width_ratios': [2, 1]}, figsize=(20*cm, 9*cm))\n",
    "linKK_widget = dp.LinkkSelectWidget(axes[0], axes[1], fig, df)"
   ]
  },
  {
   "attachments": {},
   "cell_type": "markdown",
   "id": "bd2fd53c",
   "metadata": {},
   "source": [
    "Apply the limit to the df"
   ]
  },
  {
   "cell_type": "code",
   "execution_count": null,
   "id": "de52f17d",
   "metadata": {},
   "outputs": [],
   "source": [
    "measurements_before_delete = len(df.index.droplevel(\"EIS_Frequency\").unique()) # For the sankey diagram\n",
    "df = df[df['linKK'] <= linKK_widget.linKK_limit]\n",
    "measurements_after_delete = len(df.index.droplevel(\"EIS_Frequency\").unique())\n",
    "dp.sankey_dict.update({'filter_by_linKK': measurements_after_delete-measurements_before_delete}) # For the sankey diagram"
   ]
  },
  {
   "attachments": {},
   "cell_type": "markdown",
   "id": "2eec41e0",
   "metadata": {},
   "source": [
    "### 4. Add further informations that are necessary"
   ]
  },
  {
   "attachments": {},
   "cell_type": "markdown",
   "id": "91777390",
   "metadata": {},
   "source": [
    "For Nyquist diagrams or different feature setups, we may also need Cartesian coordinates in our dataset and do not want to recalculate them each time."
   ]
  },
  {
   "cell_type": "code",
   "execution_count": null,
   "id": "1129329d",
   "metadata": {},
   "outputs": [],
   "source": [
    "df = dp.add_cartesian(df)"
   ]
  },
  {
   "cell_type": "code",
   "execution_count": null,
   "id": "709cab15",
   "metadata": {},
   "outputs": [],
   "source": [
    "df = df.sort_values(by=['cell_ID', 'EIS_measurement_id', 'EIS_Frequency'])"
   ]
  },
  {
   "cell_type": "markdown",
   "id": "aed067db",
   "metadata": {},
   "source": [
    "Maybe delete unwanted information"
   ]
  },
  {
   "cell_type": "code",
   "execution_count": null,
   "id": "3f400b72",
   "metadata": {},
   "outputs": [],
   "source": [
    "# df = df.drop(columns=['Ah_Counter','Current','Duration','Ah_throughput','Wh_throughput','Capacity','Capacity_current','SOH','SOC'])"
   ]
  },
  {
   "cell_type": "markdown",
   "id": "01715164",
   "metadata": {},
   "source": [
    "Or change some units"
   ]
  },
  {
   "cell_type": "code",
   "execution_count": null,
   "id": "2af079b3",
   "metadata": {},
   "outputs": [],
   "source": [
    "df['SOC'] = df['SOC']*100\n",
    "df['SOH'] = df['SOH']*100"
   ]
  },
  {
   "attachments": {},
   "cell_type": "markdown",
   "id": "f090f8ef",
   "metadata": {},
   "source": [
    "### 5. Interpolate all measurements and fransform the DataFrame into its final shape"
   ]
  },
  {
   "attachments": {},
   "cell_type": "markdown",
   "id": "f412a267",
   "metadata": {},
   "source": [
    "To align all measurements to the same frequecies we interpolate all measurements.  \n",
    "Afterwards the table is transformed into its final shape.\n",
    "\n",
    "<style scoped>\n",
    "table {\n",
    "  font-size: 10px;\n",
    "}\n",
    "</style>\n",
    "\n",
    "| EIS_measurement_id  | EIS_Frequency   | EIS_Z_abs  | EIS_Z_phase  | ... | Temperature | SOC     | ...  |\n",
    "| ---                 | ---             | ---        | ---          | --- | ---         | ---     | ---  |\n",
    "| 1                   | 0.01            | 0.02251    | 0.38192      | ... | 25.03       | 80.01   | ...  |\n",
    "| 1                   | 0.2304          | 0.02341    | 0.32001      | ... | 25.11       | 80.01   | ...  |\n",
    "| ...                 | ...             | ...        | ...          | ... | ...         | ...     | ...  |\n",
    "| 2                   | 0.01            | 0.02260    | 0.38246      | ... | 24.89       | 60.13   | ...  |\n",
    "| 2                   | 0.2304          | 0.02351    | 0.31981      | ... | 25.02       | 60.13   | ...  |\n",
    "\n",
    "↓\n",
    "\n",
    "| cell_ID | EIS_measurement_id  | ...   | Temperature | SOC   | ...   | EIS_Z_abs_0.01  | EIS_Z_phase_0.01  | EIS_Z_Re_0.01 | EIS_Z_Im_0.01 | ...   |\n",
    "| ---     | ---                 | ---   | ---         | ---   | ---   | ---             | ---               | ---           | ---           | ---   |\n",
    "| A0000   | 1                   | ...   | 25.07       | 80.01 | ...   | 0.02251         | 0.38192           | 0.0209        | 0.0084        | ...   |\n",
    "| A0000   | 2                   | ...   | 24.96       | 60.13 | ...   | 0.02260         | 0.38246           | 0.0226        | 0.0084        | ...   |"
   ]
  },
  {
   "cell_type": "markdown",
   "id": "6611fd62",
   "metadata": {},
   "source": [
    "Comparison before and after the interpolation of one measurement"
   ]
  },
  {
   "cell_type": "code",
   "execution_count": null,
   "id": "29db0e68",
   "metadata": {},
   "outputs": [],
   "source": [
    "# hide plots for now\n",
    "eisplot.plt.ioff()\n",
    "\n",
    "df_cell = df.loc[df.first_valid_index()[0]]\n",
    "df_cell = df_cell.loc[df.first_valid_index()[1]]\n",
    "\n",
    "fig, axes = eisplot.plt.subplots(nrows=1, ncols=1, figsize=(20*cm, 9*cm))\n",
    "axes.plot(df_cell.EIS_Z_Re*1000, -df_cell.EIS_Z_Im*1000, marker='x')\n",
    "axes.grid()\n",
    "axes.set_aspect('equal', 'box')\n",
    "if eisplot.mpl.rcParams['text.usetex'] == True:\n",
    "    axes.set_xlabel(r\"$\\Re(\\underline{Z})$ in m$\\Omega$\")\n",
    "    axes.set_ylabel(r\"$\\Im(\\underline{Z})$ in m$\\Omega$\")\n",
    "else:\n",
    "    axes.set_xlabel(r\"Re(Z) in mΩ\")\n",
    "    axes.set_ylabel(r\"Im(Z) in mΩ\")\n",
    "fig.subplots_adjust(bottom=0.14)"
   ]
  },
  {
   "cell_type": "code",
   "execution_count": null,
   "id": "fa0d3f09",
   "metadata": {},
   "outputs": [],
   "source": [
    "df = dp.eis_interpolate_restruct(df, frequencies)"
   ]
  },
  {
   "attachments": {},
   "cell_type": "markdown",
   "id": "bb421a5c",
   "metadata": {},
   "source": [
    "Save the column names of the EIS values"
   ]
  },
  {
   "cell_type": "code",
   "execution_count": null,
   "id": "4d34f8d4",
   "metadata": {},
   "outputs": [],
   "source": [
    "destination_filepath = \"data/key_lookup/key_lookup_\"+name_of_this_run+\".parquet\"\n",
    "eis_columns = ['EIS_Z_abs', 'EIS_Z_phase', 'EIS_Z_Re', 'EIS_Z_Im']\n",
    "key_lookup_df = dp.get_key_lookup_df(eis_columns, frequencies)\n",
    "key_lookup_df = key_lookup_df.reset_index()\n",
    "key_lookup_df.to_parquet(destination_filepath, compression='gzip', index=True)"
   ]
  },
  {
   "attachments": {},
   "cell_type": "markdown",
   "id": "65db0a47",
   "metadata": {},
   "source": [
    "Compare before and after interpolation"
   ]
  },
  {
   "cell_type": "code",
   "execution_count": null,
   "id": "570a1a22",
   "metadata": {},
   "outputs": [],
   "source": [
    "# show plots again\n",
    "eisplot.plt.ion()\n",
    "\n",
    "df_cell = df.loc[df.first_valid_index()[0]]\n",
    "df_cell = df_cell.loc[df.first_valid_index()[1]]\n",
    "Re_keys = key_lookup_df[\"EIS_Z_Re\"].to_list()\n",
    "Im_keys = key_lookup_df[\"EIS_Z_Im\"].to_list()\n",
    "z_real = df_cell[Re_keys]*1000\n",
    "z_imag = df_cell[Im_keys]*1000\n",
    "axes.plot(z_real, -z_imag, marker='x')\n",
    "axes.legend([\"before Interpolation\", \"after Interpolation\"])\n",
    "\n",
    "fig.set_visible(True)\n",
    "fig.show()"
   ]
  },
  {
   "attachments": {},
   "cell_type": "markdown",
   "id": "07aae93d",
   "metadata": {},
   "source": [
    "### 6. Filter your data, e.g. Temperature > 10000 °C"
   ]
  },
  {
   "cell_type": "code",
   "execution_count": null,
   "id": "f2ea3ffb",
   "metadata": {},
   "outputs": [],
   "source": [
    "measurements_before_delte = len(df)  # For the sankey diagram\n",
    "\n",
    "df = df.loc[df[\"Temperature\"] < 100]\n",
    "df = df.loc[df[\"Temperature\"] > -60]\n",
    "\n",
    "df = df.loc[df[\"Voltage\"] >= -0.1]\n",
    "df = df.loc[df[\"Voltage\"] <= 100]\n",
    "\n",
    "df = df.loc[df[\"SOC\"] >= -20]\n",
    "df = df.loc[df[\"SOC\"] <= 120]\n",
    "\n",
    "measurements_after_delte = len(df)  # For the sankey diagram\n",
    "dp.sankey_dict.update({'filter_by_value': measurements_after_delte-measurements_before_delte})"
   ]
  },
  {
   "cell_type": "code",
   "execution_count": null,
   "id": "744faafe",
   "metadata": {},
   "outputs": [],
   "source": [
    "fig, axes = eisplot.plt.subplots(1, 2, figsize=(20*cm, 9*cm))\n",
    "\n",
    "axes[0].hist(df[\"Temperature\"].to_numpy(), density=True, bins=25)\n",
    "axes[0].set_yscale('log')\n",
    "axes[0].grid(True)\n",
    "\n",
    "axes[1].hist(df[\"SOC\"].to_numpy(), density=True, bins=106)\n",
    "axes[1].set_yscale('log')\n",
    "axes[1].grid(True)\n",
    "\n",
    "axes[0].set_ylabel(\"Normalized probability\")\n",
    "axes[0].set_xlabel(\"Temperature in $^\\circ$C\")\n",
    "axes[1].set_xlabel(\"SoC in $\\%$\")\n",
    "\n",
    "fig.subplots_adjust(bottom=0.14)"
   ]
  },
  {
   "attachments": {},
   "cell_type": "markdown",
   "id": "b9fbefb3",
   "metadata": {},
   "source": [
    "### 7. Add information, like ECM fit, DRT fit and extrema"
   ]
  },
  {
   "attachments": {},
   "cell_type": "markdown",
   "id": "cf90f070",
   "metadata": {},
   "source": [
    "Add ECM fit parameters with [impedance.py](https://impedancepy.readthedocs.io/en/latest/)\n",
    "\n",
    "<style scoped>\n",
    "table {\n",
    "  font-size: 10px;\n",
    "}\n",
    "</style>\n",
    "\n",
    "| cell_ID | EIS_measurement_id  | ...  |ECM_R0 | ... | ECM_W3 | ECM_Fit_RMSE  |\n",
    "| ---     | ---                 | ---  | ---   | --- | ---    | ---           |\n",
    "| A0000   | 1                   | ...  | AAA   | ... | BBB    | ...           |\n",
    "| A0000   | 2                   | ...  | CCC   | ... | DDD    | ...           |"
   ]
  },
  {
   "cell_type": "markdown",
   "id": "56d2adca",
   "metadata": {},
   "source": [
    "Start with visual inspection of a spectra"
   ]
  },
  {
   "cell_type": "code",
   "execution_count": null,
   "id": "b9cd2034",
   "metadata": {},
   "outputs": [],
   "source": [
    "df_cell = df[np.in1d(df.index.get_level_values(0),[df.first_valid_index()[0]])]\n",
    "\n",
    "fig, axes, cmap = eisplot.plot_nyquist_feature(df_cell, key_lookup_df, feature=\"Temperature\")"
   ]
  },
  {
   "cell_type": "markdown",
   "id": "9a7d4b3f",
   "metadata": {},
   "source": [
    "Continue with the fit of one measurement"
   ]
  },
  {
   "cell_type": "code",
   "execution_count": null,
   "id": "d9f8cc4a",
   "metadata": {},
   "outputs": [],
   "source": [
    "circuit = 'L0-R0-p(CPE1,R1)-p(CPE2,R2)-p(CPE3,R3)'\n",
    "initial_guess = [1.0e-08,\n",
    "                 1.0e-02,\n",
    "                 1.0e-01, 0.5e+00,  1.0e-03,\n",
    "                 1.0e+01, 0.5e+00,  1.0e-01,\n",
    "                 1.0e+03, 0.5e+00,  1.0e+01]\n",
    "c_circuit = CustomCircuit(circuit, initial_guess=initial_guess)"
   ]
  },
  {
   "cell_type": "code",
   "execution_count": null,
   "id": "648c512e",
   "metadata": {},
   "outputs": [],
   "source": [
    "abs_keys = key_lookup_df[\"EIS_Z_abs\"].to_list()\n",
    "phase_keys = key_lookup_df[\"EIS_Z_phase\"].to_list()\n",
    "frequencies = key_lookup_df[\"frequency\"].to_numpy()\n",
    "\n",
    "# important to use dtype='float64'\n",
    "abs_values = df[abs_keys].to_numpy(dtype='float64')\n",
    "phases = df[phase_keys].to_numpy(dtype='float64')\n",
    "impedance_z = abs_values * np.exp(1j * phases)\n",
    "impedance_z = impedance_z.astype(complex)\n",
    "impedance_z = impedance_z[-1]"
   ]
  },
  {
   "cell_type": "code",
   "execution_count": null,
   "id": "b0d5ce68",
   "metadata": {},
   "outputs": [],
   "source": [
    "c_circuit.fit(frequencies, impedance_z, global_opt=False)\n",
    "\n",
    "impedance_z_fit = c_circuit.predict(frequencies)\n",
    "impedance_z_fit_rmse = rmse(impedance_z, impedance_z_fit)"
   ]
  },
  {
   "cell_type": "code",
   "execution_count": null,
   "id": "1d0b4645",
   "metadata": {},
   "outputs": [],
   "source": [
    "fig, axes = eisplot.plt.subplots(1, 1, figsize=(20*cm, 9*cm))\n",
    "axes.plot(np.real(impedance_z)*1000, -np.imag(impedance_z)*1000, linewidth=5.0)\n",
    "axes.plot(np.real(impedance_z_fit)*1000, -np.imag(impedance_z_fit)* 1000, linestyle=':', linewidth=2.0)\n",
    "axes.axis('equal')\n",
    "axes.grid()\n",
    "if eisplot.mpl.rcParams['text.usetex'] == True:\n",
    "    axes.set_xlabel(r\"$\\Re(\\underline{Z})$ in m$\\Omega$\")\n",
    "    axes.set_ylabel(r\"$\\Im(\\underline{Z})$ in m$\\Omega$\")\n",
    "else:\n",
    "    axes.set_xlabel(r\"Re(Z) in mΩ\")\n",
    "    axes.set_ylabel(r\"Im(Z) in mΩ\")\n",
    "axes.legend([\"Measurement\", \"Fit\"])\n",
    "fig.subplots_adjust(bottom=0.14)"
   ]
  },
  {
   "cell_type": "markdown",
   "id": "dd1d1535",
   "metadata": {},
   "source": [
    "Add the chosen fit now to all measurements"
   ]
  },
  {
   "cell_type": "code",
   "execution_count": null,
   "id": "7dcf06cf",
   "metadata": {},
   "outputs": [],
   "source": [
    "df = dp.add_ECMfit(df, key_lookup_df, circuit=circuit, initial_guess=initial_guess, maxfev=4000)\n",
    "# df.plot(y=\"ECM_Fit_RMSE\", xticks=[], xlabel='')"
   ]
  },
  {
   "attachments": {},
   "cell_type": "markdown",
   "id": "00aa0102",
   "metadata": {},
   "source": [
    "Calculate the DRT with [pyDRTtools](https://github.com/ciuccislab/pyDRTtools) and add the extrema of it to the table.  \n",
    "This is added as a submodule in git, make sure, that you updated it with:  ``` git submodule update ```  \n",
    "With ```drt_plot = True``` the code runs without parallelization  \n",
    "Up to 9 peaks are added to the df, when fewer peaks are found the remaining values are set to NaN  \n",
    "\n",
    "<style scoped>\n",
    "table {\n",
    "  font-size: 10px;\n",
    "}\n",
    "</style>\n",
    "\n",
    "| cell_ID | EIS_measurement_id  | ...  | DRT_Peak_0_tau | DRT_Peak_0_gamma  | ...   | DRT_Peak_9_tau  | DRT_Peak_9_gamma  |\n",
    "| ---     | ---                 | ---  | ---            | ---               | ---   | ---             | ---               |\n",
    "| A0000   | 1                   | ...  | AAA            | BBB               | ...   | CCC             | DDD               |\n",
    "| A0000   | 2                   | ...  | EEE            | FFF               | ...   | NaN             | NaN               |"
   ]
  },
  {
   "cell_type": "markdown",
   "id": "178e2f73",
   "metadata": {},
   "source": [
    "Plot the DRT for e.g. 5 measurements"
   ]
  },
  {
   "cell_type": "code",
   "execution_count": null,
   "id": "4f95def5",
   "metadata": {},
   "outputs": [],
   "source": [
    "# # grab a cell by its name\n",
    "# cell_name = \"LiFun_575166-01_002\"\n",
    "# df_cell = df.loc[df.index.get_level_values('cell_ID') == cell_name]\n",
    "# # or just grab the first one\n",
    "# df_cell = df[np.in1d(df.index.get_level_values(0), [df.first_valid_index()[0]])]\n",
    "# # or sample e.g. 5 measurements\n",
    "df_cell = df.sample(n=5)\n",
    "[fig, axes, df_cell_drt_plot] = dp.add_DRT(df_cell, key_lookup_df, drt_plot=True, feature=\"Voltage\")"
   ]
  },
  {
   "cell_type": "markdown",
   "id": "f05292c7",
   "metadata": {},
   "source": [
    "Now add the DRT to all measurements without plotting"
   ]
  },
  {
   "cell_type": "code",
   "execution_count": null,
   "id": "74e32540",
   "metadata": {},
   "outputs": [],
   "source": [
    "df = dp.add_DRT(df, key_lookup_df, drt_plot=False)"
   ]
  },
  {
   "attachments": {},
   "cell_type": "markdown",
   "id": "41606195",
   "metadata": {},
   "source": [
    "Add extrema (min, max, zerocrossing) of the Nyquist and Bode diagrams  \n",
    "Up to 3 points of each type can be added, when fewer found the remaining values are set to NaN\n",
    "\n",
    "<style scoped>\n",
    "table {\n",
    "  font-size: 10px;\n",
    "}\n",
    "</style>\n",
    "\n",
    "| cell_ID | EIS_measurement_id  | ...  | Nyquist_Zero_Real_Freq_0  | Nyquist_Zero_Real_Value_0  | ...   | Bode_Phase_Max_Freq_2   | Bode_Phase_Max_Value_2  |\n",
    "| ---     | ---                 | ---  | ---                       | ---                        | ---   | ---                     | ---                     |\n",
    "| A0000   | 1                   | ...  | AAA                       | BBB                        | ...   | CCC                     | DDD                     |\n",
    "| A0000   | 2                   | ...  | EEE                       | FFF                        | ...   | NaN                     | NaN                     |"
   ]
  },
  {
   "cell_type": "code",
   "execution_count": null,
   "id": "6741e8a6",
   "metadata": {},
   "outputs": [],
   "source": [
    "df = dp.add_EIS_Extrema(df, key_lookup_df)"
   ]
  },
  {
   "attachments": {},
   "cell_type": "markdown",
   "id": "f368648d",
   "metadata": {},
   "source": [
    "### 8. Save the DataFrame"
   ]
  },
  {
   "cell_type": "code",
   "execution_count": null,
   "id": "b1236469",
   "metadata": {},
   "outputs": [],
   "source": [
    "destination_filepath = r\"./data/eis_datasets/\"+name_of_this_run+\".parquet\"\n",
    "df.to_parquet(destination_filepath, compression='gzip', index=True)"
   ]
  },
  {
   "attachments": {},
   "cell_type": "markdown",
   "id": "4969f9d4",
   "metadata": {},
   "source": [
    "Verify if it was successful"
   ]
  },
  {
   "cell_type": "code",
   "execution_count": null,
   "id": "79754067",
   "metadata": {},
   "outputs": [],
   "source": [
    "destination_filepath = r\"./data/eis_datasets/\"+name_of_this_run+\".parquet\"\n",
    "df_in = pd.read_parquet(destination_filepath)"
   ]
  },
  {
   "cell_type": "code",
   "execution_count": null,
   "id": "ba4f38c6",
   "metadata": {},
   "outputs": [],
   "source": [
    "np.sum(np.sum((df.notna() == df_in.notna()) == False))"
   ]
  },
  {
   "cell_type": "markdown",
   "id": "0b6ae2e8",
   "metadata": {},
   "source": [
    "### 9. Evaluate the Data Preparation"
   ]
  },
  {
   "cell_type": "code",
   "execution_count": null,
   "id": "070f33b7",
   "metadata": {},
   "outputs": [],
   "source": [
    "dp.sankey_dict"
   ]
  },
  {
   "cell_type": "code",
   "execution_count": null,
   "id": "336459f5",
   "metadata": {},
   "outputs": [],
   "source": [
    "fig = eisplot.plt.figure(figsize=(8 * cm, 6 * cm))\n",
    "ax = fig.add_subplot(1, 1, 1, xticks=[], yticks=[])\n",
    "sankey = eisplot.Sankey(ax=ax, scale=0.2/dp.sankey_dict['all_files_in'],\n",
    "                offset=0.25, head_angle=45, format='%.0f', unit='')\n",
    "sankey.add(flows=[dp.sankey_dict['all_files_in'], -dp.sankey_dict['filtered_files_in'],\n",
    "                  -(dp.sankey_dict['all_files_in']-dp.sankey_dict['filtered_files_in'])],\n",
    "           labels=['', 'used files', 'not used files'],\n",
    "           orientations=[0, 0, 1])\n",
    "ax.axis('off')\n",
    "diagrams = sankey.finish()"
   ]
  },
  {
   "cell_type": "code",
   "execution_count": null,
   "id": "3e955bbe",
   "metadata": {},
   "outputs": [],
   "source": [
    "m_in = dp.sankey_dict['all_measurements_in']\n",
    "m_out = m_in + dp.sankey_dict['filter_by_frequencies'] + \\\n",
    "    dp.sankey_dict['filter_by_linKK']+dp.sankey_dict['filter_by_value']\n",
    "\n",
    "fig = eisplot.plt.figure(figsize=(8 * cm, 6 * cm))\n",
    "ax = fig.add_subplot(1, 1, 1, xticks=[], yticks=[])\n",
    "sankey = eisplot.Sankey(ax=ax, scale=0.2/m_in, offset=0.25,\n",
    "                head_angle=45, format='%.0f', unit='')\n",
    "sankey.add(flows=[m_in, -m_out, dp.sankey_dict['filter_by_frequencies'],\n",
    "                  dp.sankey_dict['filter_by_linKK'], dp.sankey_dict['filter_by_value']],\n",
    "           labels=['', 'used measurements', 'Frequency', 'linKK', 'Value'],\n",
    "           orientations=[0, 0, 1, -1, -1])\n",
    "ax.axis('off')\n",
    "diagrams = sankey.finish()"
   ]
  },
  {
   "cell_type": "code",
   "execution_count": null,
   "metadata": {},
   "outputs": [],
   "source": []
  }
 ],
 "metadata": {
  "kernelspec": {
   "display_name": "online-eis-fitting",
   "language": "python",
   "name": "python3"
  },
  "language_info": {
   "codemirror_mode": {
    "name": "ipython",
    "version": 3
   },
   "file_extension": ".py",
   "mimetype": "text/x-python",
   "name": "python",
   "nbconvert_exporter": "python",
   "pygments_lexer": "ipython3",
   "version": "3.11.8"
  },
  "vscode": {
   "interpreter": {
    "hash": "05d28ba11f89102f70830e5c492d80edd1401f4565ce2c5eed021df0239ed7ac"
   }
  }
 },
 "nbformat": 4,
 "nbformat_minor": 5
}
