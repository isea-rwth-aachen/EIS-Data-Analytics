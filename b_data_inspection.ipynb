{
 "cells": [
  {
   "attachments": {},
   "cell_type": "markdown",
   "id": "e5b9d856",
   "metadata": {},
   "source": [
    "### Data Inspection"
   ]
  },
  {
   "cell_type": "markdown",
   "metadata": {},
   "source": [
    "This notebook is used for the visualization and initial analysis of the EIS measurements"
   ]
  },
  {
   "cell_type": "code",
   "execution_count": null,
   "id": "03b80094",
   "metadata": {},
   "outputs": [],
   "source": [
    "%matplotlib widget \n",
    "\n",
    "from modules import dataset_manipulation as dm\n",
    "from modules import eisplot as eisplot\n",
    "\n",
    "import numpy as np\n",
    "import pandas as pd\n",
    "\n",
    "cm = 1/2.54  # centimeters in inches\n",
    "\n",
    "## if you have installed latex and want to use it for plots, uncomment the following 3 lines\n",
    "# eisplot.mpl.rcParams.update({\"text.usetex\": True,'savefig.format':'pdf'})\n",
    "# eisplot.mpl.rc('font', **{'family': 'serif', 'serif': ['Computer Modern']})\n",
    "# eisplot.mpl.rc('text.latex', preamble=r'\\usepackage{underscore}')\n",
    "\n",
    "## safe figures e.g. with:\n",
    "# plot_name = \"custom_3D_plot\"\n",
    "# eisplot.plt.savefig(r\"./figures/\" + name_of_this_run + \"_\" + plot_name + \".pdf\")\n",
    "# eisplot.plt.savefig(r\"./figures/\" + name_of_this_run + \"_\" + plot_name + \".png\", dpi=600)"
   ]
  },
  {
   "cell_type": "markdown",
   "id": "7c36d62f",
   "metadata": {},
   "source": [
    "The variable ```name_of_this_run``` is used to save and load the data"
   ]
  },
  {
   "cell_type": "code",
   "execution_count": null,
   "id": "7661dd57",
   "metadata": {},
   "outputs": [],
   "source": [
    "name_of_this_run = \"example_data\""
   ]
  },
  {
   "cell_type": "code",
   "execution_count": null,
   "id": "af39996a",
   "metadata": {},
   "outputs": [],
   "source": [
    "destination_filepath = r\"./data/eis_datasets/\"+name_of_this_run+\".parquet\"\n",
    "df = pd.read_parquet(destination_filepath)\n",
    "destination_filepath = r\"./data/key_lookup/key_lookup_\"+name_of_this_run+\".parquet\"\n",
    "key_lookup_df = pd.read_parquet(destination_filepath)"
   ]
  },
  {
   "cell_type": "code",
   "execution_count": null,
   "id": "f1891af6",
   "metadata": {},
   "outputs": [],
   "source": [
    "frequencies = key_lookup_df[\"frequency\"].to_numpy()\n",
    "abs_keys = key_lookup_df[\"EIS_Z_abs\"].to_list()\n",
    "phase_keys = key_lookup_df[\"EIS_Z_phase\"].to_list()\n",
    "re_keys = key_lookup_df[\"EIS_Z_Re\"].to_list()\n",
    "im_keys = key_lookup_df[\"EIS_Z_Im\"].to_list()"
   ]
  },
  {
   "cell_type": "markdown",
   "id": "e50f26de",
   "metadata": {},
   "source": [
    "Analysis of individual cells"
   ]
  },
  {
   "cell_type": "code",
   "execution_count": null,
   "id": "4de10ffc",
   "metadata": {},
   "outputs": [],
   "source": [
    "# # grab a cell by its name\n",
    "cell_name = \"LiFun_575166-01_002\"\n",
    "df_cell = df.loc[df.index.get_level_values('cell_ID') == cell_name]\n",
    "# # or just grab the first one\n",
    "# df_cell = df[np.in1d(df.index.get_level_values(0), [df.first_valid_index()[0]])]\n",
    "# # or sample e.g. 5 measurements\n",
    "# df_cell = df.sample(n=5)\n",
    "\n",
    "df_cell = df_cell.sort_values(\"SOC\", ascending=True)\n",
    "df_cell = df_cell.sort_values(\"Temperature\", ascending=True)"
   ]
  },
  {
   "cell_type": "markdown",
   "id": "2f17b995",
   "metadata": {},
   "source": [
    "There are two functions for typical EIS plots: `plot_nyquist_feature` and `plot_bode_feature`."
   ]
  },
  {
   "cell_type": "code",
   "execution_count": null,
   "id": "20c32692",
   "metadata": {},
   "outputs": [],
   "source": [
    "fig, (ax1, ax2), cmap = eisplot.plot_bode_feature(df_cell, key_lookup_df, feature=\"Temperature\")"
   ]
  },
  {
   "cell_type": "code",
   "execution_count": null,
   "id": "f10b2e94",
   "metadata": {},
   "outputs": [],
   "source": [
    "fig, ax, cmap = eisplot.plot_nyquist_feature(df_cell, key_lookup_df, feature=\"Temperature\")"
   ]
  },
  {
   "cell_type": "markdown",
   "id": "ae1f2961",
   "metadata": {},
   "source": [
    "Example of a custom figure:"
   ]
  },
  {
   "cell_type": "code",
   "execution_count": null,
   "id": "458cd84f",
   "metadata": {},
   "outputs": [],
   "source": [
    "feature = \"Temperature\"\n",
    "unit = \"°C\"\n",
    "\n",
    "feature_values = df_cell[feature].to_numpy(dtype='float64')\n",
    "c_min_value = np.min(feature_values)\n",
    "c_max_value = np.max(feature_values)\n",
    "norm = eisplot.mpl.colors.Normalize(c_min_value, c_max_value)\n",
    "cmap = eisplot.mpl.cm.ScalarMappable(norm=norm, cmap=eisplot.mpl.cm.turbo)\n",
    "colors = cmap.to_rgba(feature_values)\n",
    "\n",
    "size_scale = 100\n",
    "size_offset = 10\n",
    "alpha_scale = 0.75\n",
    "alpha_offset = 0.25\n",
    "x = df_cell[\"Voltage\"].to_numpy(dtype='float64')\n",
    "x = np.transpose(np.tile(x, (len(abs_keys), 1)))\n",
    "y = df_cell[re_keys].to_numpy(dtype='float64')*1000\n",
    "z = df_cell[im_keys].to_numpy(dtype='float64')*-1000\n",
    "colors = np.repeat(colors, len(abs_keys), axis=0)\n",
    "sizes = df_cell[\"SOH\"].to_numpy(dtype='float64')/100\n",
    "sizes = np.clip(np.transpose(np.tile(sizes, (len(abs_keys), 1)) - 0.7), 0, None)*10/3*size_scale+size_offset\n",
    "alphas = df_cell[\"SOC\"].to_numpy(dtype='float64')/100\n",
    "colors[:, 3] = np.transpose(np.tile(alphas, (len(abs_keys), 1))).reshape(-1)*alpha_scale+alpha_offset\n",
    "markers = 'o'\n",
    "\n",
    "fig = eisplot.plt.figure(figsize=(12 * cm, 12 * cm))\n",
    "ax = fig.add_subplot(1, 1, 1, projection='3d')\n",
    "cbar = fig.colorbar(cmap, ax=ax, location='left', fraction=0.046, pad=0.04)\n",
    "cbar.set_label(feature + \" in \" + unit)\n",
    "ax.scatter(xs=x, ys=y, zs=z, s=sizes, marker=markers, c=colors)\n",
    "\n",
    "if eisplot.mpl.rcParams['text.usetex'] == True:\n",
    "    legend_elements = [\n",
    "        eisplot.plt.Line2D([0], [0], marker='o', color='dimgray',\n",
    "                   label='SoC = 100 \\%', alpha=1, markersize=8, linestyle=''),\n",
    "        eisplot.plt.Line2D([0], [0], marker='o', color='dimgray',\n",
    "                   label='SoC = 0 \\%', alpha=0.25, markersize=8, linestyle=''),\n",
    "        eisplot.plt.Line2D([0], [0], marker='o', color='dimgray',\n",
    "                   label='SoH = 100 \\%', alpha=0.5, markersize=8, linestyle=''),\n",
    "        eisplot.plt.Line2D([0], [0], marker='o', color='dimgray',\n",
    "                   label='SoH = 70 \\%', alpha=0.5, markersize=4, linestyle='')\n",
    "    ]\n",
    "    ax.set_xlabel(\"Voltage in V\")\n",
    "    ax.set_ylabel(r\"$\\Re(\\underline{Z})$ in m$\\Omega$\")\n",
    "    ax.set_zlabel(r\"$\\Im(\\underline{Z})$ in m$\\Omega$\")\n",
    "else:\n",
    "    legend_elements = [\n",
    "        eisplot.plt.Line2D([0], [0], marker='o', color='dimgray',\n",
    "                   label='SoC = 100 %', alpha=1, markersize=8, linestyle=''),\n",
    "        eisplot.plt.Line2D([0], [0], marker='o', color='dimgray',\n",
    "                   label='SoC = 0 %', alpha=0.25, markersize=8, linestyle=''),\n",
    "        eisplot.plt.Line2D([0], [0], marker='o', color='dimgray',\n",
    "                   label='SoH = 100 %', alpha=0.5, markersize=8, linestyle=''),\n",
    "        eisplot.plt.Line2D([0], [0], marker='o', color='dimgray',\n",
    "                   label='SoH = 70 %', alpha=0.5, markersize=4, linestyle='')\n",
    "    ]\n",
    "    ax.set_xlabel(\"Voltage in V\")\n",
    "    ax.set_ylabel(r\"Re(Z) in mΩ\")\n",
    "    ax.set_zlabel(r\"Im(Z) in mΩ\")\n",
    "\n",
    "legend_elements = [\n",
    "    eisplot.plt.Line2D([0], [0], marker='o', color='dimgray',\n",
    "               label='SoC = 100 %', alpha=1, markersize=8, linestyle=''),\n",
    "    eisplot.plt.Line2D([0], [0], marker='o', color='dimgray',\n",
    "               label='SoC = 0 %', alpha=0.25, markersize=8, linestyle=''),\n",
    "    eisplot.plt.Line2D([0], [0], marker='o', color='dimgray',\n",
    "               label='SoH = 100 %', alpha=0.5, markersize=8, linestyle=''),\n",
    "    eisplot.plt.Line2D([0], [0], marker='o', color='dimgray',\n",
    "               label='SoH = 70 %', alpha=0.5, markersize=4, linestyle='')\n",
    "]\n",
    "ax.legend(handles=legend_elements, loc='upper center', ncol=2, fontsize=8)"
   ]
  },
  {
   "attachments": {},
   "cell_type": "markdown",
   "id": "1b32609c",
   "metadata": {},
   "source": [
    "Before further plotting, lets get an overview of available parameters"
   ]
  },
  {
   "cell_type": "code",
   "execution_count": null,
   "id": "13a93fd0",
   "metadata": {},
   "outputs": [],
   "source": [
    "pd.set_option('display.max_columns', None)\n",
    "df.head(1)\n",
    "# pd.set_option('display.max_columns', 20)"
   ]
  },
  {
   "cell_type": "code",
   "execution_count": null,
   "id": "16a8f449",
   "metadata": {},
   "outputs": [],
   "source": [
    "print([column for column in list(df) if 'ECM' in column])\n",
    "print([column for column in list(df) if 'DRT' in column])\n",
    "print([column for column in list(df) if 'Bode' in column])\n",
    "print([column for column in list(df) if 'Nyquist' in column])\n",
    "print(df.columns[0:15].values)"
   ]
  },
  {
   "attachments": {},
   "cell_type": "markdown",
   "id": "ad73d49d",
   "metadata": {},
   "source": [
    "The easiest way is to directly use the pandas plot functions"
   ]
  },
  {
   "cell_type": "code",
   "execution_count": null,
   "id": "804d3fba",
   "metadata": {},
   "outputs": [],
   "source": [
    "df.plot.scatter(x='SOC', y='ECM_R0', c='Temperature', colormap='turbo',figsize=(16 * cm, 10 * cm))"
   ]
  },
  {
   "cell_type": "code",
   "execution_count": null,
   "id": "897a19ec",
   "metadata": {},
   "outputs": [],
   "source": [
    "fig, axs = eisplot.plt.subplots(13, 13, figsize=(25 * cm, 25 * cm))\n",
    "pd.plotting.scatter_matrix(ax=axs, frame=df[[\"Voltage\", \"SOH\", 'ECM_L0', 'ECM_R0', 'ECM_CPE1_0', 'ECM_CPE1_1',\n",
    "                           'ECM_R1', 'ECM_CPE2_0', 'ECM_CPE2_1', 'ECM_R2', 'ECM_CPE3_0', 'ECM_CPE3_1', 'ECM_R3']], diagonal='kde')\n",
    "for ax in axs.flatten():\n",
    "    ax.xaxis.label.set_rotation(90)\n",
    "    ax.yaxis.label.set_rotation(0)\n",
    "    ax.yaxis.label.set_ha('right')\n",
    "eisplot.plt.tight_layout()"
   ]
  },
  {
   "cell_type": "code",
   "execution_count": null,
   "id": "55fe0cd1",
   "metadata": {},
   "outputs": [],
   "source": [
    "fig, axs = eisplot.plt.subplots(10, 10, figsize=(25 * cm, 25 * cm))\n",
    "pd.plotting.scatter_matrix(ax=axs, frame=df[[\"Voltage\", \"SOH\", 'DRT_Peak_0_tau', 'DRT_Peak_0_gamma', 'DRT_Peak_1_tau',\n",
    "                           'DRT_Peak_1_gamma', 'DRT_Peak_2_tau', 'DRT_Peak_2_gamma', 'DRT_Peak_3_tau', 'DRT_Peak_3_gamma']], diagonal='kde')\n",
    "for ax in axs.flatten():\n",
    "    ax.xaxis.label.set_rotation(90)\n",
    "    ax.yaxis.label.set_rotation(0)\n",
    "    ax.yaxis.label.set_ha('right')\n",
    "eisplot.plt.tight_layout()"
   ]
  },
  {
   "cell_type": "code",
   "execution_count": null,
   "id": "36051d0a",
   "metadata": {},
   "outputs": [],
   "source": [
    "fig, axs = eisplot.plt.subplots(6, 6, figsize=(20 * cm, 20 * cm))\n",
    "pd.plotting.scatter_matrix(ax=axs, frame=df[[\"SOH\", \"Voltage\", 'Bode_Phase_Min_Freq_0',\n",
    "                           'Bode_Phase_Min_Value_0', 'Bode_Phase_Min_Freq_1', 'Bode_Phase_Min_Value_1']], diagonal='kde')\n",
    "for ax in axs.flatten():\n",
    "    ax.xaxis.label.set_rotation(90)\n",
    "    ax.yaxis.label.set_rotation(0)\n",
    "    ax.yaxis.label.set_ha('right')\n",
    "eisplot.plt.tight_layout()"
   ]
  },
  {
   "cell_type": "code",
   "execution_count": null,
   "id": "b10a47b4",
   "metadata": {},
   "outputs": [],
   "source": [
    "corr = df[[\"SOH\", \"ECM_R0\", \"DRT_Peak_0_gamma\",\n",
    "           'Bode_Phase_Min_Value_0', 'Bode_Phase_Min_Value_1']].corr()\n",
    "corr.style.background_gradient(cmap='turbo', vmin=-1, vmax=1)"
   ]
  },
  {
   "cell_type": "code",
   "execution_count": null,
   "id": "90e3b2d4",
   "metadata": {},
   "outputs": [],
   "source": [
    "# create a subset of the df\n",
    "df_new = df[[\"SOC\", \"Temperature\", \"ECM_R0\",\n",
    "             'DRT_Peak_0_tau', 'Bode_Phase_Min_Freq_0']].copy()\n",
    "# sort by the absolute scalar correlation of the values\n",
    "sum_corr = abs(df_new.corr()).sum().sort_values(ascending=True).index.values\n",
    "df_new = df_new[sum_corr]\n",
    "\n",
    "# create a custom correlation matrix\n",
    "g = eisplot.cor_matrix(df_new)"
   ]
  },
  {
   "cell_type": "code",
   "execution_count": null,
   "id": "df641ea3",
   "metadata": {},
   "outputs": [],
   "source": [
    "# Configure the custom correlation matrix figure\n",
    "eisplot.plt.subplots_adjust(bottom=0.07)\n",
    "eisplot.plt.subplots_adjust(left=0.1)\n",
    "\n",
    "g.axes[0, 0].set_ylabel(\"Normalised\\n Probability Density\", size=8)\n",
    "g.axes[0, 0].set_yticklabels([])\n",
    "\n",
    "name = 'SoC in $\\%$'\n",
    "g.axes[4, 0].set_xlabel(name, size=8)\n",
    "\n",
    "if eisplot.mpl.rcParams['text.usetex'] == True:\n",
    "    name = '$R_0$ in $\\Omega$'\n",
    "else:\n",
    "    name = 'R_0 in Omega'\n",
    "g.axes[1, 0].set_ylabel(name, size=8)\n",
    "g.axes[4, 1].set_xlabel(name, size=8)\n",
    "\n",
    "name = 'Tau of First\\n Peak of DRT in s'\n",
    "g.axes[2, 0].set_ylabel(name, size=8)\n",
    "g.axes[4, 2].set_xlabel(name, size=8)\n",
    "\n",
    "name = 'Temperature\\n in °C'\n",
    "g.axes[3, 0].set_ylabel(name, size=8)\n",
    "g.axes[4, 3].set_xlabel(name, size=8)\n",
    "\n",
    "name = 'Frequency of first\\n Minimum of the Phase in Hz'\n",
    "g.axes[4, 0].set_ylabel(name, size=8)\n",
    "g.axes[4, 4].set_xlabel(name, size=8)"
   ]
  },
  {
   "attachments": {},
   "cell_type": "markdown",
   "id": "2199b470",
   "metadata": {},
   "source": [
    "#### Further Bode and Nyquist plots"
   ]
  },
  {
   "attachments": {},
   "cell_type": "markdown",
   "id": "72e9d5fc",
   "metadata": {},
   "source": [
    "##### Bode"
   ]
  },
  {
   "cell_type": "code",
   "execution_count": null,
   "id": "7fe0cd24",
   "metadata": {},
   "outputs": [],
   "source": [
    "fig, ax1 = eisplot.plt.subplots(1, 1, figsize=(12 * cm, 7 * cm))\n",
    "ax2 = ax1.inset_axes([0.5, 0.5, 0.47, 0.47])\n",
    "df_cell = df_cell.sort_values(\"Temperature\", ascending=False)\n",
    "eisplot.plot_bode_feature(df_cell, key_lookup_df,\n",
    "                          feature=\"Temperature\", fig=fig, ax1=ax1, ax2=ax2)\n",
    "ax2.remove()\n",
    "ax1.set_autoscaley_on(True)\n",
    "ax1.set_yscale('log')"
   ]
  },
  {
   "cell_type": "code",
   "execution_count": null,
   "id": "aecfa7a5",
   "metadata": {},
   "outputs": [],
   "source": [
    "fig, ax1 = eisplot.plt.subplots(1, 1, figsize=(12 * cm, 7 * cm))\n",
    "ax2 = ax1.inset_axes([0.5, 0.5, 0.47, 0.47])\n",
    "eisplot.plot_bode_feature(df_cell, key_lookup_df,\n",
    "                          feature=\"Temperature\", fig=fig, ax1=ax2, ax2=ax1)\n",
    "ax2.remove()"
   ]
  },
  {
   "cell_type": "code",
   "execution_count": null,
   "id": "0fb71eb2",
   "metadata": {},
   "outputs": [],
   "source": [
    "fig, axs = eisplot.plt.subplots(4, 1, sharex=True, figsize=(12 * cm, 12 * cm))\n",
    "df = df.sort_values(\"SOC\", ascending=True)\n",
    "df = df.sort_values(\"Temperature\", ascending=False)\n",
    "eisplot.plot_bode_feature(df, key_lookup_df, feature=\"Temperature\",\n",
    "                          fig=fig, ax1=axs[0], ax2=axs[1], ax1_xlabel=False, ax2_xlabel=False)\n",
    "df = df.sort_values(\"SOC\", ascending=True)\n",
    "eisplot.plot_bode_feature(df, key_lookup_df, feature=\"SOC\", fig=fig,\n",
    "                          ax1=axs[2], ax2=axs[3], ax1_xlabel=False, subplots_adjust=False)\n",
    "\n",
    "axs[0].set_autoscaley_on(True)\n",
    "axs[0].set_yscale('log')\n",
    "axs[2].set_autoscaley_on(True)\n",
    "axs[2].set_yscale('log')"
   ]
  },
  {
   "attachments": {},
   "cell_type": "markdown",
   "id": "165c3f83",
   "metadata": {},
   "source": [
    "##### Nyquist"
   ]
  },
  {
   "cell_type": "code",
   "execution_count": null,
   "id": "61903378",
   "metadata": {},
   "outputs": [],
   "source": [
    "fig, axs = eisplot.plt.subplots(2, 1, sharey=True, sharex=True, figsize=(12 * cm, 10 * cm))\n",
    "\n",
    "df = df.sort_values(\"SOC\", ascending=True)\n",
    "df = df.sort_values(\"Temperature\", ascending=False)\n",
    "eisplot.plot_nyquist_feature(df, key_lookup_df, feature=\"Temperature\", fig=fig, ax=axs[0], ax_xlabel=False)\n",
    "df = df.sort_values(\"SOC\", ascending=True)\n",
    "eisplot.plot_nyquist_feature(df, key_lookup_df, feature=\"SOC\", fig=fig, ax=axs[1], subplots_adjust=False)"
   ]
  },
  {
   "cell_type": "markdown",
   "id": "9f9eb1a7",
   "metadata": {},
   "source": [
    "Let's have a look at the average EIS measurement"
   ]
  },
  {
   "cell_type": "code",
   "execution_count": null,
   "id": "0c3aa02e",
   "metadata": {},
   "outputs": [],
   "source": [
    "abs_value_mean = df.loc[:, abs_keys].to_numpy(dtype='float64').mean(axis=0)\n",
    "phase_value_mean = df.loc[:, phase_keys].to_numpy(dtype='float64').mean(axis=0)\n",
    "\n",
    "impedance_mean = abs_value_mean * np.exp(1j * phase_value_mean)"
   ]
  },
  {
   "cell_type": "code",
   "execution_count": null,
   "id": "948d07b2",
   "metadata": {},
   "outputs": [],
   "source": [
    "fig, ax = eisplot.plt.subplots(1, figsize=(12 * cm, 10 * cm))\n",
    "ax.plot(np.real(impedance_mean)*1000, np.imag(impedance_mean)*1000)\n",
    "ax.grid()\n",
    "ax.set_aspect('equal', 'box')\n",
    "if eisplot.mpl.rcParams['text.usetex'] == True:\n",
    "    ax.set_xlabel(r\"$\\Re(\\underline{Z})$ in m$\\Omega$\")\n",
    "    ax.set_ylabel(r\"$\\Im(\\underline{Z})$ in m$\\Omega$\")\n",
    "else:\n",
    "    ax.set_xlabel(r\"Re(Z) in mΩ\")\n",
    "    ax.set_ylabel(r\"Im(Z) in mΩ\")\n",
    "ax.invert_yaxis()"
   ]
  },
  {
   "attachments": {},
   "cell_type": "markdown",
   "id": "bec8b713",
   "metadata": {},
   "source": [
    "#### Bode and Nyquist of reduced amout of measurements"
   ]
  },
  {
   "cell_type": "code",
   "execution_count": null,
   "id": "1785e96e",
   "metadata": {},
   "outputs": [],
   "source": [
    "fig, ax, cmap = eisplot.plot_nyquist_feature(df_cell, key_lookup_df, feature=\"Temperature\", reduce = True, nr_intervals = 8);"
   ]
  },
  {
   "cell_type": "code",
   "execution_count": null,
   "id": "e36ca013",
   "metadata": {},
   "outputs": [],
   "source": [
    "fig, ax, cmap = eisplot.plot_bode_feature(df_cell, key_lookup_df, feature=\"Temperature\", reduce = True, nr_intervals = 8);"
   ]
  },
  {
   "attachments": {},
   "cell_type": "markdown",
   "id": "66862c0d",
   "metadata": {},
   "source": [
    "#### Bode and Nyquist with highlighted frequencies"
   ]
  },
  {
   "cell_type": "code",
   "execution_count": null,
   "id": "11417fe7",
   "metadata": {},
   "outputs": [],
   "source": [
    "frequencies = key_lookup_df[\"frequency\"].to_numpy()\n",
    "highlight_freqs = [frequencies[0],frequencies[5], frequencies[14], frequencies[30], frequencies[36]]\n",
    "\n",
    "fig, ax, cmap = eisplot.plot_bode_feature(df_cell, key_lookup_df, \"Temperature\",highlight_freqs = highlight_freqs, reduce = True, nr_intervals = 8);"
   ]
  },
  {
   "cell_type": "code",
   "execution_count": null,
   "id": "272ff1ee",
   "metadata": {},
   "outputs": [],
   "source": [
    "frequencies = key_lookup_df[\"frequency\"].to_numpy()\n",
    "highlight_freqs = [frequencies[0],frequencies[5], frequencies[14], frequencies[30], frequencies[36]]\n",
    "\n",
    "fig, axs, cmap = eisplot.plot_nyquist_feature(df_cell, key_lookup_df, \"Temperature\",highlight_freqs = highlight_freqs, reduce = True, nr_intervals = 8);"
   ]
  },
  {
   "attachments": {},
   "cell_type": "markdown",
   "id": "ea83208c",
   "metadata": {},
   "source": [
    "#### Bode and Nyquist with highlighted extrema"
   ]
  },
  {
   "cell_type": "code",
   "execution_count": null,
   "id": "05cbbcfa",
   "metadata": {},
   "outputs": [],
   "source": [
    "df = df.sort_values(\"Temperature\")"
   ]
  },
  {
   "cell_type": "code",
   "execution_count": null,
   "id": "c86c2029",
   "metadata": {},
   "outputs": [],
   "source": [
    "highlight_df_columns = [[\"Nyquist_Min_Real_Value_0\", \"Nyquist_Min_Imag_Value_0\"], [\"Nyquist_Max_Real_Value_0\", \"Nyquist_Max_Imag_Value_0\"]]\n",
    "\n",
    "fig, axs, cmap = eisplot.plot_nyquist_feature(df, key_lookup_df, \"Temperature\", \n",
    "    reduce = True, nr_intervals = 9, highlight_df_columns = highlight_df_columns);"
   ]
  },
  {
   "cell_type": "code",
   "execution_count": null,
   "id": "6619ce24",
   "metadata": {},
   "outputs": [],
   "source": [
    "fig, axs = eisplot.plt.subplots(2, 1, sharey=False, sharex=True, figsize=(12 * cm, 10 * cm))\n",
    "\n",
    "highlight_df_columns = [[\"Bode_Phase_Min_Freq_0\", \"Bode_Phase_Min_Value_0\"], [\n",
    "    \"Bode_Phase_Max_Freq_0\", \"Bode_Phase_Max_Value_0\"]]\n",
    "\n",
    "fig, axs, cmap = eisplot.plot_bode_feature(df, key_lookup_df, \"Temperature\", fig=fig,\n",
    "                                           ax1=axs[0], ax2=axs[1], reduce=True, nr_intervals=8, highlight_df_columns=highlight_df_columns)"
   ]
  },
  {
   "cell_type": "code",
   "execution_count": null,
   "id": "fb624a63",
   "metadata": {},
   "outputs": [],
   "source": []
  }
 ],
 "metadata": {
  "kernelspec": {
   "display_name": "online-eis-fitting",
   "language": "python",
   "name": "python3"
  },
  "language_info": {
   "codemirror_mode": {
    "name": "ipython",
    "version": 3
   },
   "file_extension": ".py",
   "mimetype": "text/x-python",
   "name": "python",
   "nbconvert_exporter": "python",
   "pygments_lexer": "ipython3",
   "version": "3.11.9"
  },
  "vscode": {
   "interpreter": {
    "hash": "05d28ba11f89102f70830e5c492d80edd1401f4565ce2c5eed021df0239ed7ac"
   }
  }
 },
 "nbformat": 4,
 "nbformat_minor": 5
}
