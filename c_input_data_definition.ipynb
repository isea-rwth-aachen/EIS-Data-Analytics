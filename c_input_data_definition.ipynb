{
 "cells": [
  {
   "attachments": {},
   "cell_type": "markdown",
   "id": "ba38cd72",
   "metadata": {},
   "source": [
    "### Model Input Selection\n",
    "To later predict parameters, this notebook is used to select the input parameters and to save them in json files.  \n",
    "Different parameter sets are possible. The output parameter is not selected here."
   ]
  },
  {
   "cell_type": "code",
   "execution_count": null,
   "id": "5b301ab0",
   "metadata": {},
   "outputs": [],
   "source": [
    "from modules import dataset_manipulation as dm\n",
    "\n",
    "import pandas as pd"
   ]
  },
  {
   "cell_type": "markdown",
   "metadata": {},
   "source": [
    "### Load Data"
   ]
  },
  {
   "cell_type": "code",
   "execution_count": null,
   "id": "1fc86656",
   "metadata": {},
   "outputs": [],
   "source": [
    "name_of_this_run = \"example_data\"\n",
    "\n",
    "destination_filepath = r\"./data/eis_datasets/\" + name_of_this_run + \".parquet\"\n",
    "df = pd.read_parquet(destination_filepath)\n",
    "destination_filepath = r\"./data/key_lookup/key_lookup_\" + name_of_this_run + \".parquet\"\n",
    "key_lookup_df = pd.read_parquet(destination_filepath)"
   ]
  },
  {
   "cell_type": "markdown",
   "metadata": {},
   "source": [
    "### Define the Model Input Parameters"
   ]
  },
  {
   "cell_type": "markdown",
   "metadata": {},
   "source": [
    "Basically all columns can be used as input or output parameters."
   ]
  },
  {
   "cell_type": "code",
   "execution_count": null,
   "metadata": {},
   "outputs": [],
   "source": [
    "pd.set_option(\"display.max_columns\", None)\n",
    "df.head(0)\n",
    "# pd.set_option('display.max_columns', 20)"
   ]
  },
  {
   "cell_type": "markdown",
   "id": "a540036c",
   "metadata": {},
   "source": [
    "All Frequencies"
   ]
  },
  {
   "cell_type": "code",
   "execution_count": null,
   "id": "fc0ce317",
   "metadata": {},
   "outputs": [],
   "source": [
    "input_parameters = []\n",
    "input_parameters += key_lookup_df[\"EIS_Z_abs\"].to_list()\n",
    "print(input_parameters)\n",
    "dm.list_2_json(input_parameters, name_of_this_run + \"_abs.json\")\n",
    "input_parameters_stored = dm.json_2_list(name_of_this_run + \"_abs.json\")\n",
    "print(input_parameters_stored)\n",
    "input_parameters == input_parameters_stored"
   ]
  },
  {
   "cell_type": "code",
   "execution_count": null,
   "id": "747c4af7",
   "metadata": {},
   "outputs": [],
   "source": [
    "input_parameters = []\n",
    "input_parameters += key_lookup_df[\"EIS_Z_abs\"].to_list()\n",
    "input_parameters += key_lookup_df[\"EIS_Z_phase\"].to_list()\n",
    "print(input_parameters)\n",
    "dm.list_2_json(input_parameters, name_of_this_run + \"_abs_phase.json\")\n",
    "input_parameters_stored = dm.json_2_list(name_of_this_run + \"_abs_phase.json\")\n",
    "print(input_parameters_stored)\n",
    "input_parameters == input_parameters_stored"
   ]
  },
  {
   "cell_type": "markdown",
   "id": "ac8a4078",
   "metadata": {},
   "source": [
    "Or only individual Frequencies"
   ]
  },
  {
   "cell_type": "code",
   "execution_count": null,
   "id": "203df131",
   "metadata": {},
   "outputs": [],
   "source": [
    "input_parameters = []\n",
    "input_parameters += [\"EIS_Z_abs_1126.6964\"]\n",
    "print(input_parameters)\n",
    "dm.list_2_json(input_parameters, name_of_this_run + \"_abs_1khz.json\")\n",
    "input_parameters_stored = dm.json_2_list(name_of_this_run + \"_abs_1khz.json\")\n",
    "print(input_parameters_stored)\n",
    "input_parameters == input_parameters_stored"
   ]
  },
  {
   "cell_type": "code",
   "execution_count": null,
   "id": "21c95923",
   "metadata": {},
   "outputs": [],
   "source": [
    "input_parameters = []\n",
    "input_parameters += [\"EIS_Z_abs_93.170166\"]\n",
    "print(input_parameters)\n",
    "dm.list_2_json(input_parameters, name_of_this_run + \"_abs_100hz.json\")\n",
    "input_parameters_stored = dm.json_2_list(name_of_this_run + \"_abs_100hz.json\")\n",
    "print(input_parameters_stored)\n",
    "input_parameters == input_parameters_stored"
   ]
  },
  {
   "cell_type": "code",
   "execution_count": null,
   "id": "6938f4b7",
   "metadata": {},
   "outputs": [],
   "source": [
    "input_parameters = []\n",
    "input_parameters += [\"EIS_Z_abs_10.163140\"]\n",
    "print(input_parameters)\n",
    "dm.list_2_json(input_parameters, name_of_this_run + \"_abs_10hz.json\")\n",
    "input_parameters_stored = dm.json_2_list(name_of_this_run + \"_abs_10hz.json\")\n",
    "print(input_parameters_stored)\n",
    "input_parameters == input_parameters_stored"
   ]
  },
  {
   "cell_type": "code",
   "execution_count": null,
   "id": "d9749333",
   "metadata": {},
   "outputs": [],
   "source": [
    "input_parameters = []\n",
    "input_parameters += [\"EIS_Z_abs_1.1086105\"]\n",
    "print(input_parameters)\n",
    "dm.list_2_json(input_parameters, name_of_this_run + \"_abs_1hz.json\")\n",
    "input_parameters_stored = dm.json_2_list(name_of_this_run + \"_abs_1hz.json\")\n",
    "print(input_parameters_stored)\n",
    "input_parameters == input_parameters_stored"
   ]
  },
  {
   "cell_type": "code",
   "execution_count": null,
   "id": "7bb97a8c",
   "metadata": {},
   "outputs": [],
   "source": [
    "input_parameters = []\n",
    "input_parameters += [\"EIS_Z_abs_0.0916745\"]\n",
    "print(input_parameters)\n",
    "dm.list_2_json(input_parameters, name_of_this_run + \"_abs_0-1hz.json\")\n",
    "input_parameters_stored = dm.json_2_list(name_of_this_run + \"_abs_0-1hz.json\")\n",
    "print(input_parameters_stored)\n",
    "input_parameters == input_parameters_stored"
   ]
  },
  {
   "cell_type": "code",
   "execution_count": null,
   "id": "b91b1d29",
   "metadata": {},
   "outputs": [],
   "source": [
    "input_parameters = []\n",
    "input_parameters += [\"EIS_Z_abs_0.01\"]\n",
    "print(input_parameters)\n",
    "dm.list_2_json(input_parameters, name_of_this_run + \"_abs_0-01hz.json\")\n",
    "input_parameters_stored = dm.json_2_list(name_of_this_run + \"_abs_0-01hz.json\")\n",
    "print(input_parameters_stored)\n",
    "input_parameters == input_parameters_stored"
   ]
  },
  {
   "cell_type": "markdown",
   "metadata": {},
   "source": [
    "Or all absolute values could be used together with the Voltage"
   ]
  },
  {
   "cell_type": "code",
   "execution_count": null,
   "metadata": {},
   "outputs": [],
   "source": [
    "input_parameters = []\n",
    "input_parameters.append(\"Voltage\")\n",
    "input_parameters += key_lookup_df[\"EIS_Z_abs\"].to_list()\n",
    "print(input_parameters)\n",
    "dm.list_2_json(input_parameters, name_of_this_run + \"_abs_voltage.json\")\n",
    "input_parameters_stored = dm.json_2_list(name_of_this_run + \"_abs_voltage.json\")\n",
    "print(input_parameters_stored)\n",
    "input_parameters == input_parameters_stored"
   ]
  },
  {
   "cell_type": "markdown",
   "metadata": {},
   "source": [
    "Or only a subset of frequencies"
   ]
  },
  {
   "cell_type": "code",
   "execution_count": null,
   "metadata": {},
   "outputs": [],
   "source": [
    "f_min = 2\n",
    "f_max = 200\n",
    "frequencies = key_lookup_df.frequency.values\n",
    "frequencies_reduced = frequencies[(frequencies > f_min) & (frequencies < f_max)]\n",
    "frequencies_reduced = frequencies_reduced[::2]  # only every second frequency\n",
    "\n",
    "input_parameters = []\n",
    "# got through temperature freqs and append the abs column keys\n",
    "for frequency in frequencies_reduced:\n",
    "    row = key_lookup_df[key_lookup_df[\"frequency\"] == frequency]\n",
    "    input_parameters.append(row.EIS_Z_abs.item())\n",
    "    # input_parameters_subset_f_soc.append(row.EIS_Z_phase.item())\n",
    "# input_parameters_subset_f_soc.append(\"SOC\")\n",
    "print(input_parameters)\n",
    "dm.list_2_json(input_parameters, name_of_this_run + \"_abs_reduced_f.json\")\n",
    "input_parameters_stored = dm.json_2_list(name_of_this_run + \"_abs_reduced_f.json\")\n",
    "print(input_parameters_stored)\n",
    "input_parameters == input_parameters_stored"
   ]
  },
  {
   "cell_type": "code",
   "execution_count": null,
   "id": "839b1a23",
   "metadata": {},
   "outputs": [],
   "source": []
  }
 ],
 "metadata": {
  "kernelspec": {
   "display_name": "eis_data_analytics",
   "language": "python",
   "name": "python3"
  },
  "language_info": {
   "codemirror_mode": {
    "name": "ipython",
    "version": 3
   },
   "file_extension": ".py",
   "mimetype": "text/x-python",
   "name": "python",
   "nbconvert_exporter": "python",
   "pygments_lexer": "ipython3",
   "version": "3.11.9"
  }
 },
 "nbformat": 4,
 "nbformat_minor": 5
}
