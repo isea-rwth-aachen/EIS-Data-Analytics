{
 "cells": [
  {
   "cell_type": "markdown",
   "metadata": {},
   "source": [
    "### Fitting Regression Models\n",
    "Individual Frequencies (Single Input - Single Output)  \n",
    "This notebook is optimized for temperature estimation, a change to other parameters is possible."
   ]
  },
  {
   "cell_type": "markdown",
   "metadata": {},
   "source": [
    "**In order to see the results you should start the MLflow ui seperately**:\n",
    "1. Open a promt/terminal and navigate to the path of this project\n",
    "2. Activate the virtual environment:  \n",
    "    (Windows: ```.venv\\eis_data_analytics\\Scripts\\activate```,  \n",
    "    Linux/Mac: ```.venv/eis_data_analytics/bin/activate```)\n",
    "3. Now start MLflow with ```mlflow server --port 1234``` consider to add e.g.: ```--workers=16 --gunicorn-opts='--timeout 600'```\n",
    "4. Open [http://127.0.0.1:1234](http://127.0.0.1:1234) in your browser"
   ]
  },
  {
   "cell_type": "code",
   "execution_count": null,
   "metadata": {},
   "outputs": [],
   "source": [
    "%matplotlib widget \n",
    "\n",
    "from modules import data_preparation as dp\n",
    "from modules import dataset_manipulation as dm\n",
    "from modules import eisplot as eisplot\n",
    "from modules.eisplot import plt\n",
    "from modules.eisplot import mpl\n",
    "\n",
    "import numpy as np\n",
    "import pandas as pd\n",
    "\n",
    "from functools import partial\n",
    "import hyperopt\n",
    "import mlflow\n",
    "import shapely\n",
    "from sklearn.pipeline import Pipeline\n",
    "from sklearn.preprocessing import FunctionTransformer\n",
    "from sklearn.preprocessing import MinMaxScaler\n",
    "from sklearn.svm import SVR\n",
    "\n",
    "cm = 1/2.54  # centimeters in inches\n",
    "\n",
    "## if you have installed latex and want to use it for plots, uncomment the following 3 lines\n",
    "# eisplot.mpl.rcParams.update({\"text.usetex\": True,'savefig.format':'pdf'})\n",
    "# eisplot.mpl.rc('font', **{'family': 'serif', 'serif': ['Computer Modern']})\n",
    "# eisplot.mpl.rc('text.latex', preamble=r'\\usepackage{underscore}')\n",
    "\n",
    "## safe figures e.g. with:\n",
    "# plot_name = \"custom_3D_plot\"\n",
    "# plt.savefig(r\"./figures/\" + name_of_this_run + \"_\" + plot_name + \".pdf\")\n",
    "# plt.savefig(r\"./figures/\" + name_of_this_run + \"_\" + plot_name + \".png\", dpi=600)"
   ]
  },
  {
   "cell_type": "markdown",
   "metadata": {},
   "source": [
    "### Load Data"
   ]
  },
  {
   "cell_type": "code",
   "execution_count": null,
   "metadata": {},
   "outputs": [],
   "source": [
    "name_of_this_run = \"example_data\"\n",
    "\n",
    "destination_filepath = r\"./data/eis_datasets/\"+name_of_this_run+\".parquet\"\n",
    "df = pd.read_parquet(destination_filepath)\n",
    "destination_filepath = r\"./data/key_lookup/key_lookup_\"+name_of_this_run+\".parquet\"\n",
    "key_lookup_df = pd.read_parquet(destination_filepath)"
   ]
  },
  {
   "cell_type": "markdown",
   "metadata": {},
   "source": [
    "### Define Input Parameter"
   ]
  },
  {
   "cell_type": "code",
   "execution_count": null,
   "metadata": {},
   "outputs": [],
   "source": [
    "# name_of_the_feature = \"_abs_0-01hz\" #paper\n",
    "# name_of_the_feature = \"_abs_0-1hz\"\n",
    "# name_of_the_feature = \"_abs_1hz\" #paper\n",
    "# name_of_the_feature = \"_abs_10hz\"\n",
    "name_of_the_feature = \"_abs_100hz\" #paper\n",
    "# name_of_the_feature = \"_abs_1khz\"\n",
    "\n",
    "feature_selection = dm.json_2_list(name_of_this_run+name_of_the_feature+\".json\")\n",
    "print(feature_selection)"
   ]
  },
  {
   "cell_type": "markdown",
   "metadata": {},
   "source": [
    "### Define the Output Parameter of the Model"
   ]
  },
  {
   "cell_type": "code",
   "execution_count": null,
   "metadata": {},
   "outputs": [],
   "source": [
    "output_parameter = \"Temperature\""
   ]
  },
  {
   "cell_type": "code",
   "execution_count": null,
   "metadata": {},
   "outputs": [],
   "source": [
    "experiment_name = name_of_this_run + \"_\" + \"SVR_SISO_Random\" + output_parameter + name_of_the_feature\n",
    "mlflow_exp = mlflow.set_experiment(experiment_name=experiment_name)"
   ]
  },
  {
   "cell_type": "markdown",
   "metadata": {},
   "source": [
    "### Analyze the data and see if Arrenhius prescaling is useful"
   ]
  },
  {
   "cell_type": "code",
   "execution_count": null,
   "metadata": {},
   "outputs": [],
   "source": [
    "fig, ax = plt.subplots(1, 1, figsize=(10 * cm, 10 * cm))\n",
    "ax.scatter(1000/(df[output_parameter].values+273.15),\n",
    "           np.log(1/df[feature_selection].values))\n",
    "ax.grid()\n",
    "ax.set_xlabel(\"1000/(Output+273.15)\")\n",
    "ax.set_ylabel(\"ln(1/Input)\")\n",
    "fig.tight_layout()"
   ]
  },
  {
   "cell_type": "markdown",
   "metadata": {},
   "source": [
    "If prescaling is useful set to True"
   ]
  },
  {
   "cell_type": "code",
   "execution_count": null,
   "metadata": {},
   "outputs": [],
   "source": [
    "use_arrhenius_correction = True"
   ]
  },
  {
   "cell_type": "code",
   "execution_count": null,
   "metadata": {},
   "outputs": [],
   "source": [
    "def arrhenius_correction(value):\n",
    "    return np.log(1/value)\n",
    "\n",
    "def arrhenius_correction_inverse(value):\n",
    "    return 1/np.exp(value)"
   ]
  },
  {
   "cell_type": "code",
   "execution_count": null,
   "metadata": {},
   "outputs": [],
   "source": [
    "[arrhenius_correction_inverse(arrhenius_correction(i))\n",
    " for i in [0.01, 0.1, 1, 10]]"
   ]
  },
  {
   "cell_type": "markdown",
   "metadata": {},
   "source": [
    "### Convert to Training Data and define Calculation of Errors"
   ]
  },
  {
   "cell_type": "markdown",
   "metadata": {},
   "source": [
    "We extract the measurement of 5 °C and 35 °C for testing.  \n",
    "The remaining data is split 20 / 80 % into validation and train data."
   ]
  },
  {
   "cell_type": "code",
   "execution_count": null,
   "metadata": {},
   "outputs": [],
   "source": [
    "# convert to training arrays\n",
    "data_set = dm.get_set(df, output_parameter, feature_keys=feature_selection,\n",
    "                      validation_split=0.2, output_intervals_for_test=[[4, 6], [34, 36]])\n",
    "x_train, y_train = data_set[\"train\"]\n",
    "x_validation, y_validation = data_set[\"validation\"]\n",
    "x_test, y_test = data_set[\"test\"]"
   ]
  },
  {
   "cell_type": "code",
   "execution_count": null,
   "metadata": {},
   "outputs": [],
   "source": [
    "if use_arrhenius_correction:\n",
    "    x_train = arrhenius_correction(x_train)\n",
    "    x_validation = arrhenius_correction(x_validation)\n",
    "    x_test = arrhenius_correction(x_test)"
   ]
  },
  {
   "cell_type": "markdown",
   "metadata": {},
   "source": [
    "Compare with and without Arrhenius"
   ]
  },
  {
   "cell_type": "code",
   "execution_count": null,
   "metadata": {},
   "outputs": [],
   "source": [
    "x_data = np.vstack((x_train,x_validation,x_test))\n",
    "y_data = np.hstack((y_train,y_validation,y_test))\n",
    "\n",
    "\n",
    "fig, ax_1 = plt.subplots(1, 1, figsize=(12 * cm, 10 * cm))\n",
    "ax_1.scatter(arrhenius_correction_inverse(x_data), y_data)\n",
    "ax_1.set_xlabel(\"Input without Arrhenius correction\",\n",
    "                color=eisplot.rwth_colors.colors[('blue', 100)])\n",
    "ax_1.set_ylabel(\"Output Value\")\n",
    "ax_1.tick_params(\n",
    "    axis='x', labelcolor=eisplot.rwth_colors.colors[('blue', 100)])\n",
    "ax_2 = ax_1.twiny()\n",
    "ax_2.scatter(x_data, y_data, c=eisplot.rwth_colors.colors[('green', 100)])\n",
    "ax_2.set_xlabel(\"Input with Arrhenius correction\",\n",
    "                color=eisplot.rwth_colors.colors[('green', 100)])\n",
    "ax_2.tick_params(\n",
    "    axis='x', labelcolor=eisplot.rwth_colors.colors[('green', 100)])\n",
    "ax_1.grid()\n",
    "\n",
    "ax_1_histx = ax_1.inset_axes([0, 1.25, 1, 0.25], sharex=ax_1)\n",
    "ax_1_histx.hist(arrhenius_correction_inverse(x_data), bins=50,\n",
    "                color=eisplot.rwth_colors.colors[('blue', 100)])\n",
    "ax_1_histx.tick_params(axis=\"x\", labelbottom=False)\n",
    "ax_1_histx.tick_params(axis=\"y\", labelleft=False)\n",
    "\n",
    "ax_2_histx = ax_2.inset_axes([0, 1.25, 1, 0.25], sharex=ax_2)\n",
    "ax_2_histx.hist(x_data, bins=50, color=eisplot.rwth_colors.colors[(\n",
    "    'green', 100)], histtype='step')\n",
    "ax_2_histx.tick_params(axis=\"x\", labelbottom=False)\n",
    "ax_2_histx.tick_params(axis=\"y\", labelleft=False)\n",
    "\n",
    "fig.tight_layout()"
   ]
  },
  {
   "cell_type": "markdown",
   "metadata": {},
   "source": [
    "### The SVR"
   ]
  },
  {
   "cell_type": "code",
   "execution_count": null,
   "metadata": {},
   "outputs": [],
   "source": [
    "transformer = MinMaxScaler()\n",
    "transformer = transformer.fit(x_train)"
   ]
  },
  {
   "cell_type": "code",
   "execution_count": null,
   "metadata": {},
   "outputs": [],
   "source": [
    "def evaluate_mse_svr(model, x, y):\n",
    "    y_pred = model.predict(x)\n",
    "    y_orig = y\n",
    "    mse = ((y_pred-y_orig)**2).mean()\n",
    "    return mse"
   ]
  },
  {
   "cell_type": "markdown",
   "metadata": {},
   "source": [
    "#### For Hyperparameter optimization the fmin of hyperopt is used"
   ]
  },
  {
   "cell_type": "markdown",
   "metadata": {},
   "source": [
    "Define an objective to be minimized"
   ]
  },
  {
   "cell_type": "code",
   "execution_count": null,
   "metadata": {},
   "outputs": [],
   "source": [
    "def svm_objective(params,experiment_id):\n",
    "    \"\"\"\n",
    "    Optimize the SVM model using SVR.\n",
    "\n",
    "    Parameters:\n",
    "        params (dict): The parameters for the SVM model and the validation.\n",
    "        experiment_id: The id of the mlflow experiment.\n",
    "\n",
    "    Returns:\n",
    "        dict: The loss and status of the optimization.\n",
    "    \"\"\"\n",
    "\n",
    "    default_params = {\n",
    "        'log_model': False,\n",
    "        'plot_diag': False,\n",
    "        'plot_fit': False,\n",
    "        'log_plot_type': 'png',\n",
    "        'kernel': 'rbf',\n",
    "        'epsilon': 0.1,\n",
    "        'C': 1,\n",
    "        'tol': 0.001,\n",
    "        'coef0': 0.0,\n",
    "        'gamma': 'auto',\n",
    "        'degree': 3,\n",
    "        'use_arrhenius_correction': True\n",
    "    }\n",
    "\n",
    "    default_params.update(params)\n",
    "    merged_params = default_params\n",
    "\n",
    "    with mlflow.start_run(experiment_id=experiment_id, run_name=\"SVR\"):\n",
    "        if merged_params['log_model']:\n",
    "            mlflow.sklearn.autolog()\n",
    "\n",
    "        mlflow.log_param(\"kernel\", merged_params['kernel'])\n",
    "        mlflow.log_param(\"C\", merged_params['C'])\n",
    "        mlflow.log_param(\"tol\", merged_params['tol'])\n",
    "        mlflow.log_param(\"gamma\", merged_params['gamma'])\n",
    "        mlflow.log_param(\"epsilon\", merged_params['epsilon'])\n",
    "        mlflow.log_param(\"degree\", merged_params['degree'])\n",
    "        mlflow.log_param(\"coef0\", merged_params['coef0'])\n",
    "        mlflow.log_param(\"arrhenius_correction\",\n",
    "                         merged_params['use_arrhenius_correction'])\n",
    "\n",
    "        pipeline = Pipeline(steps=[('scaler', transformer),\n",
    "                                   ('svm', SVR(kernel=merged_params['kernel'],\n",
    "                                               C=merged_params['C'],\n",
    "                                               tol=merged_params['tol'],\n",
    "                                               gamma=merged_params['gamma'],\n",
    "                                               epsilon=merged_params['epsilon'],\n",
    "                                               degree=merged_params['degree'],\n",
    "                                               coef0=merged_params['coef0'],\n",
    "                                               cache_size=4000))])\n",
    "\n",
    "        pipeline.fit(x_train, y_train)\n",
    "        pipeline.score(x_validation, y_validation)\n",
    "\n",
    "        train_mse_temp = evaluate_mse_svr(pipeline, x_train, y_train)\n",
    "        validation_mse_temp = evaluate_mse_svr(pipeline, x_validation, y_validation)\n",
    "        test_mse_temp = evaluate_mse_svr(pipeline, x_test, y_test)\n",
    "\n",
    "        mlflow.log_metric(\"train_mse_temp\", train_mse_temp)\n",
    "        mlflow.log_metric(\"validation_mse_temp\", validation_mse_temp)\n",
    "        mlflow.log_metric(\"test_mse_temp\", test_mse_temp)\n",
    "\n",
    "        if merged_params['plot_diag']:\n",
    "            fig, ax = plt.subplots(1, 1, figsize=(7*cm, 7*cm))\n",
    "            plt.cla()\n",
    "\n",
    "            # prediction on train set\n",
    "            y_pred = pipeline.predict(x_train)\n",
    "            cell_list = list(set(data_set['df_train'].index.get_level_values(0)))\n",
    "            fig, ax = eisplot.cell_scatter(data_set, y_pred, cell_names=cell_list, title=False, legend=False, fig=fig, ax=ax)\n",
    "\n",
    "            # prediction on validation set\n",
    "            y_pred = pipeline.predict(x_validation)\n",
    "            cell_list = list(set(data_set['df_validation'].index.get_level_values(0)))\n",
    "            fig, ax = eisplot.cell_scatter(data_set, y_pred, is_validation=True, cell_names=cell_list,\n",
    "                                           title=False, legend=False, fig=fig, ax=ax, add_trendline=False)\n",
    "\n",
    "            # prediction on test set\n",
    "            y_pred = pipeline.predict(x_test)\n",
    "            cell_list = list(set(data_set['df_test'].index.get_level_values(0)))\n",
    "            fig, ax = eisplot.cell_scatter(data_set, y_pred, is_test=True, cell_names=cell_list,\n",
    "                                           title=False, legend=False, fig=fig, ax=ax, add_trendline=False)\n",
    "\n",
    "            if (name_of_this_run == \"example_data\") & (output_parameter == \"Temperature\"):\n",
    "                ax.set_xlim([-30, 60])\n",
    "                ax.set_ylim([-30, 60])\n",
    "\n",
    "                ax.text(-4, -19, \"Train MSE: \" + '%.2f' % train_mse_temp + \" K\", horizontalalignment='left', verticalalignment='center', fontsize=8)\n",
    "                ax.text(-4, -23, \"Validation MSE: \" + '%.2f' % validation_mse_temp + \" K\", horizontalalignment='left', verticalalignment='center', fontsize=8)\n",
    "                ax.text(-4, -27, \"Test MSE: \" + '%.2f' % test_mse_temp + \" K\", horizontalalignment='left', verticalalignment='center', fontsize=8)\n",
    "\n",
    "            legend_elements = [mpl.lines.Line2D([0], [0], color=eisplot.rwth_colors.colors[('green', 100)], label='ideal'),\n",
    "                               mpl.lines.Line2D([0], [0], marker='.', color=eisplot.rwth_colors.colors[(\n",
    "                                   'blue', 100)], linestyle='', label='train', alpha=0.5),\n",
    "                               mpl.lines.Line2D([0], [0], marker='2', color=eisplot.rwth_colors.colors[(\n",
    "                                   'orange', 100)], linestyle='', label='validation', alpha=0.5),\n",
    "                               mpl.lines.Line2D([0], [0], marker='1', color=eisplot.rwth_colors.colors[('lavender', 100)], linestyle='', label='test', alpha=0.5)]\n",
    "            ax.legend(handles=legend_elements, loc=\"best\", scatterpoints=1, prop={\"size\": 8})\n",
    "            fig.subplots_adjust(bottom=0.14, left=0.19)\n",
    "            mlflow.log_figure(fig, \"prediction_vs_actual.\" + merged_params['log_plot_type'])\n",
    "            plt.close()\n",
    "\n",
    "        if merged_params['plot_fit']:\n",
    "            fig, ax = plt.subplots(1, 1, figsize=(7*cm, 7*cm))\n",
    "            plt.cla()\n",
    "            if use_arrhenius_correction:\n",
    "                x_min = arrhenius_correction(arrhenius_correction_inverse(\n",
    "                    np.min([np.min(x_train), np.min(x_validation), np.min(x_test)]))*1.2)\n",
    "                x_max = arrhenius_correction(arrhenius_correction_inverse(\n",
    "                    np.max([np.max(x_train), np.max(x_validation), np.max(x_test)]))*0.8)\n",
    "            else:\n",
    "                x_min = np.min([np.min(x_train), np.min(x_validation), np.min(x_test)])*0.8\n",
    "                x_max = np.max([np.max(x_train), np.max(x_validation), np.max(x_test)])*1.2\n",
    "            x_plot = np.linspace(x_min, x_max, 1000)[:, None]\n",
    "            # x_plot= np.linspace(0,np.max(x)+np.max(x),1000)[:, None]\n",
    "\n",
    "            y_svr = pipeline.predict(x_plot)\n",
    "\n",
    "            x_train_arrhenius = x_train\n",
    "            x_validation_arrhenius = x_validation\n",
    "            x_test_arrhenius = x_test\n",
    "\n",
    "            if use_arrhenius_correction:\n",
    "                x_plot_arrhenius = arrhenius_correction_inverse(x_plot)\n",
    "                x_train_arrhenius = arrhenius_correction_inverse(x_train)\n",
    "                x_validation_arrhenius = arrhenius_correction_inverse(x_validation)\n",
    "                x_test_arrhenius = arrhenius_correction_inverse(x_test)\n",
    "\n",
    "            ax.plot(x_plot_arrhenius, y_svr, lw=2, label=\"SVR\", color=eisplot.rwth_colors.colors[('bordeaux', 100)])\n",
    "            ax.scatter(x_train_arrhenius, y_train, marker=\".\", label=\"train\", color=eisplot.rwth_colors.colors[('blue', 100)], alpha=0.5)\n",
    "            ax.scatter(x_validation_arrhenius, y_validation, marker=\"2\", label=\"validation\", color=eisplot.rwth_colors.colors[('orange', 100)], alpha=0.5)\n",
    "            ax.scatter(x_test_arrhenius, y_test, marker=\"1\", label=\"test\", color=eisplot.rwth_colors.colors[('lavender', 100)], alpha=0.5)\n",
    "\n",
    "            ax.set_ylabel(\"Temperature in $^\\circ$C\")\n",
    "            if eisplot.mpl.rcParams['text.usetex'] == True:\n",
    "                ax.set_xlabel(r\"$|\\underline{Z}|$ in m$\\Omega$\")\n",
    "            else:\n",
    "                ax.set_xlabel(r\"|Z| in mΩ\")\n",
    "            ax.grid()\n",
    "\n",
    "            if (name_of_this_run == \"example_data\") & (output_parameter == \"Temperature\"):\n",
    "                ax.set_ylim([-30, 60])\n",
    "                \n",
    "                if name_of_the_feature == \"_abs_0-01hz\":\n",
    "                    ax.text(2, 19, \"Train MSE: \" + '%.2f' % train_mse_temp + \" K\", horizontalalignment='left', verticalalignment='center', fontsize=8)\n",
    "                    ax.text(2, 15, \"Validation MSE: \" + '%.2f' % validation_mse_temp + \" K\", horizontalalignment='left', verticalalignment='center', fontsize=8)\n",
    "                    ax.text(2, 11, \"Test MSE: \" + '%.2f' % test_mse_temp + \" K\", horizontalalignment='left', verticalalignment='center', fontsize=8)\n",
    "                elif name_of_the_feature == \"_abs_0-1hz\":\n",
    "                    ax.text(0, -19, \"Train MSE: \" + '%.2f' % train_mse_temp + \" K\", horizontalalignment='left', verticalalignment='center', fontsize=8)\n",
    "                    ax.text(0, -23, \"Validation MSE: \" + '%.2f' % validation_mse_temp + \" K\", horizontalalignment='left', verticalalignment='center', fontsize=8)\n",
    "                    ax.text(0, -27, \"Test MSE: \" + '%.2f' % test_mse_temp + \" K\", horizontalalignment='left', verticalalignment='center', fontsize=8)\n",
    "                elif name_of_the_feature == \"_abs_1hz\":\n",
    "                    ax.text(0.05, -19, \"Train MSE: \" + '%.2f' % train_mse_temp + \" K\", horizontalalignment='left', verticalalignment='center', fontsize=8)\n",
    "                    ax.text(0.05, -23, \"Validation MSE: \" + '%.2f' % validation_mse_temp + \" K\", horizontalalignment='left', verticalalignment='center', fontsize=8)\n",
    "                    ax.text(0.05, -27, \"Test MSE: \" + '%.2f' % test_mse_temp + \" K\", horizontalalignment='left', verticalalignment='center', fontsize=8)\n",
    "                elif name_of_the_feature == \"_abs_10hz\":\n",
    "                    ax.text(0.05, -19, \"Train MSE: \" + '%.2f' % train_mse_temp + \" K\", horizontalalignment='left', verticalalignment='center', fontsize=8)\n",
    "                    ax.text(0.05, -23, \"Validation MSE: \" + '%.2f' % validation_mse_temp + \" K\", horizontalalignment='left', verticalalignment='center', fontsize=8)\n",
    "                    ax.text(0.05, -27, \"Test MSE: \" + '%.2f' % test_mse_temp + \" K\", horizontalalignment='left', verticalalignment='center', fontsize=8)\n",
    "                elif name_of_the_feature == \"_abs_100hz\":\n",
    "                    ax.text(0.025, -19, \"Train MSE: \" + '%.2f' % train_mse_temp + \" K\", horizontalalignment='left', verticalalignment='center', fontsize=8)\n",
    "                    ax.text(0.025, -23, \"Validation MSE: \" + '%.2f' % validation_mse_temp + \" K\", horizontalalignment='left', verticalalignment='center', fontsize=8)\n",
    "                    ax.text(0.025, -27, \"Test MSE: \" + '%.2f' % test_mse_temp + \" K\", horizontalalignment='left', verticalalignment='center', fontsize=8)\n",
    "                elif name_of_the_feature == \"_abs_1khz\":\n",
    "                    ax.text(0.03, -19, \"Train MSE: \" + '%.2f' % train_mse_temp + \" K\", horizontalalignment='left', verticalalignment='center', fontsize=8)\n",
    "                    ax.text(0.03, -23, \"Validation MSE: \" + '%.2f' % validation_mse_temp + \" K\", horizontalalignment='left', verticalalignment='center', fontsize=8)\n",
    "                    ax.text(0.03, -27, \"Test MSE: \" + '%.2f' % test_mse_temp + \" K\", horizontalalignment='left', verticalalignment='center', fontsize=8)\n",
    "\n",
    "            ax.legend(loc=\"best\", scatterpoints=1, prop={\"size\": 8})\n",
    "\n",
    "            fig.subplots_adjust(bottom=0.14, left=0.19)\n",
    "\n",
    "            mlflow.log_figure(fig, \"svr_fit.\"+merged_params['log_plot_type'])\n",
    "            plt.close()\n",
    "\n",
    "\n",
    "        mlflow.log_metric(\"support_vectors\",pipeline.named_steps['svm'].n_support_)\n",
    "        mlflow.log_metric(\"support_vectors_percent\",pipeline.named_steps['svm'].n_support_ / x_train.shape[0])\n",
    "        mlflow.log_metric(\"std_mse\",np.std([train_mse_temp, validation_mse_temp, test_mse_temp]))\n",
    "        mlflow.log_metric(\"max_mse\",np.max([train_mse_temp, validation_mse_temp, test_mse_temp]))\n",
    "        mlflow.log_metric(\"std_times_max_mse\",np.std([train_mse_temp, validation_mse_temp, test_mse_temp])*np.max([train_mse_temp, validation_mse_temp, test_mse_temp]))\n",
    "\n",
    "        # fmin() minimizes the objective\n",
    "        weighted_fit_result = np.max([train_mse_temp, validation_mse_temp, test_mse_temp])\n",
    "        \n",
    "    return {'loss': weighted_fit_result, 'status': hyperopt.STATUS_OK}"
   ]
  },
  {
   "cell_type": "markdown",
   "metadata": {},
   "source": [
    "Define a searchspace"
   ]
  },
  {
   "cell_type": "code",
   "execution_count": null,
   "metadata": {},
   "outputs": [],
   "source": [
    "# search_space = hyperopt.hp.choice('SVM', [\n",
    "#     {\n",
    "#         'use_arrhenius_correction': hyperopt.hp.choice('use_arrhenius_correction', [True]),\n",
    "#         'log_model': hyperopt.hp.choice('log_model', [True]),\n",
    "#         'plot_fit': hyperopt.hp.choice('plot_fit', [True]),\n",
    "#         'plot_diag': hyperopt.hp.choice('plot_diag', [True]),\n",
    "#         'log_plot_type': hyperopt.hp.choice('log_plot_type', ['svg']),\n",
    "#         'gamma': hyperopt.hp.choice('gamma', ['scale']),\n",
    "#         'tol': hyperopt.hp.choice('tol', [0.001]),\n",
    "#         'C': hyperopt.hp.choice('C', [0.01, 0.1, 1, 10, 100, 1000]),\n",
    "#         'epsilon': hyperopt.hp.choice('epsilon', [0.1]),\n",
    "#         'degree': hyperopt.hp.choice('degree', [3, 4, 5]),\n",
    "#         'coef0': hyperopt.hp.choice('coef0', [0.0]),\n",
    "#         'kernel': hyperopt.hp.choice('kernel', ['rbf','linear','poly']),\n",
    "#     }\n",
    "# ])\n",
    "\n",
    "search_space = hyperopt.hp.choice('SVM', [\n",
    "    {\n",
    "        'use_arrhenius_correction': hyperopt.hp.choice('use_arrhenius_correction', [True]),\n",
    "        'log_model': hyperopt.hp.choice('log_model', [True]),\n",
    "        'plot_fit': hyperopt.hp.choice('plot_fit', [True]),\n",
    "        'plot_diag': hyperopt.hp.choice('plot_diag', [True]),\n",
    "        'log_plot_type': hyperopt.hp.choice('log_plot_type', ['svg']),\n",
    "        'gamma': hyperopt.hp.loguniform('gamma', np.log(0.001), np.log(100)),\n",
    "        'tol': hyperopt.hp.loguniform('tol', np.log(0.001), np.log(10)),\n",
    "        'C': hyperopt.hp.loguniform('C', np.log(0.01), np.log(10000000000)),\n",
    "        'epsilon': hyperopt.hp.loguniform('epsilon', np.log(0.01), np.log(10)),\n",
    "        'kernel': hyperopt.hp.choice('kernel', ['rbf'])\n",
    "    }\n",
    "])"
   ]
  },
  {
   "cell_type": "markdown",
   "metadata": {},
   "source": [
    "Choose an optimization type"
   ]
  },
  {
   "cell_type": "code",
   "execution_count": null,
   "metadata": {},
   "outputs": [],
   "source": [
    "# algo=hyperopt.tpe.suggest\n",
    "algo=hyperopt.rand.suggest"
   ]
  },
  {
   "cell_type": "markdown",
   "metadata": {},
   "source": [
    "#### Fit the model, you can track it in mlflow: [http://127.0.0.1:1234](http://127.0.0.1:1234)"
   ]
  },
  {
   "cell_type": "code",
   "execution_count": null,
   "metadata": {},
   "outputs": [],
   "source": [
    "timout_in_minutes = 24*60\n",
    "max_evals = 10\n",
    "\n",
    "## if java is installed (only recommended under linux/wsl)\n",
    "# import pyspark\n",
    "# spark_trails = hyperopt.SparkTrials(parallelism=4)\n",
    "# best_result = hyperopt.fmin(fn=partial(svm_objective,experiment_id=mlflow_exp.experiment_id),\n",
    "#                             space=search_space,\n",
    "#                             algo=algo,\n",
    "#                             max_evals=max_evals,\n",
    "#                             timeout=timout_in_minutes*60,\n",
    "#                             trials=spark_trails)\n",
    "# if java is not available\n",
    "best_result = hyperopt.fmin(fn=partial(svm_objective,experiment_id=mlflow_exp.experiment_id),\n",
    "                            space=search_space,\n",
    "                            algo=algo,\n",
    "                            max_evals=max_evals,\n",
    "                            timeout=timout_in_minutes*60)"
   ]
  },
  {
   "cell_type": "code",
   "execution_count": null,
   "metadata": {},
   "outputs": [],
   "source": [
    "print(hyperopt.space_eval(search_space, best_result))"
   ]
  },
  {
   "cell_type": "markdown",
   "metadata": {},
   "source": [
    "### Validate the model"
   ]
  },
  {
   "cell_type": "code",
   "execution_count": null,
   "metadata": {},
   "outputs": [],
   "source": [
    "name_of_this_run_eval = name_of_this_run\n",
    "\n",
    "destination_filepath = r\"./data/eis_datasets/\"+name_of_this_run_eval+\".parquet\"\n",
    "df_eval = pd.read_parquet(destination_filepath)"
   ]
  },
  {
   "cell_type": "code",
   "execution_count": null,
   "metadata": {},
   "outputs": [],
   "source": [
    "feature_selection_eval = feature_selection"
   ]
  },
  {
   "cell_type": "code",
   "execution_count": null,
   "metadata": {},
   "outputs": [],
   "source": [
    "output_parameter_eval = output_parameter"
   ]
  },
  {
   "cell_type": "code",
   "execution_count": null,
   "metadata": {},
   "outputs": [],
   "source": [
    "# convert to arrays\n",
    "data_set_eval = dm.get_set(df, output_parameter_eval, feature_keys=feature_selection_eval,\n",
    "                      validation_split=0.2, output_intervals_for_test=[[4, 6], [34, 36]])\n",
    "x_train_eval, y_train_eval = data_set_eval[\"train\"]\n",
    "x_validation_eval, y_validation_eval = data_set_eval[\"validation\"]\n",
    "x_test_eval, y_test_eval = data_set_eval[\"test\"]"
   ]
  },
  {
   "cell_type": "code",
   "execution_count": null,
   "metadata": {},
   "outputs": [],
   "source": [
    "if use_arrhenius_correction:\n",
    "    x_train_eval = arrhenius_correction(x_train_eval)\n",
    "    x_validation_eval = arrhenius_correction(x_validation_eval)\n",
    "    x_test_eval = arrhenius_correction(x_test_eval)"
   ]
  },
  {
   "cell_type": "markdown",
   "metadata": {},
   "source": [
    "Open [http://127.0.0.1:1234](http://127.0.0.1:1234) to select a fitted model. If you click on it, you can extract the run ID. It could look like this: \"ad26474e8c324f84906c9fc501928cae\""
   ]
  },
  {
   "cell_type": "code",
   "execution_count": null,
   "metadata": {},
   "outputs": [],
   "source": [
    "## you can choose a specific model\n",
    "# logged_model = 'ad26474e8c324f84906c9fc501928cae'\n",
    "## or just load the best model\n",
    "client = mlflow.tracking.MlflowClient()\n",
    "runs = client.search_runs(experiment_ids=[mlflow.get_experiment_by_name(experiment_name).experiment_id],\n",
    "                          order_by=[\"metrics.max_mse\"],\n",
    "                          max_results=1)\n",
    "logged_model = runs[0].info.run_id\n",
    "\n",
    "# Load model as a PyFuncModel.\n",
    "run_eval = mlflow.get_run(logged_model)\n",
    "loaded_model = mlflow.pyfunc.load_model(run_eval.info.artifact_uri+\"/model/\")\n",
    "\n",
    "train_mse_temp = evaluate_mse_svr(loaded_model, x_train_eval, y_train_eval)\n",
    "print(\"Train MSE: \"+str(train_mse_temp))\n",
    "validation_mse_temp = evaluate_mse_svr(loaded_model, x_validation_eval, y_validation_eval)\n",
    "print(\"Validation MSE: \"+str(validation_mse_temp))\n",
    "test_mse_temp = evaluate_mse_svr(loaded_model, x_test_eval, y_test_eval)\n",
    "print(\"Test MSE: \"+str(test_mse_temp))\n",
    "\n",
    "print(\"C: \" + run_eval.data.params[\"svm__C\"] +\n",
    "      \", epsilon: \"+run_eval.data.params[\"svm__epsilon\"] +\n",
    "      \", tol: \"+run_eval.data.params[\"svm__tol\"] +\n",
    "      \", Gamma: \"+run_eval.data.params[\"svm__gamma\"])"
   ]
  },
  {
   "cell_type": "markdown",
   "metadata": {},
   "source": [
    "Plot the Result"
   ]
  },
  {
   "cell_type": "code",
   "execution_count": null,
   "metadata": {},
   "outputs": [],
   "source": [
    "fig, ax = plt.subplots(1, 1, figsize=(10*cm, 10*cm))\n",
    "\n",
    "cell_list = list(set(data_set_eval['df_train'].index.get_level_values(0)))\n",
    "y_pred_train_eval = loaded_model.predict(x_train_eval)\n",
    "fig, ax = eisplot.cell_scatter(data_set_eval, y_pred_train_eval, cell_names=cell_list, fig=fig, ax=ax)\n",
    "\n",
    "cell_list = list(set(data_set_eval['df_validation'].index.get_level_values(0)))\n",
    "y_pred_validation_eval = loaded_model.predict(x_validation_eval)\n",
    "fig, ax = eisplot.cell_scatter(data_set_eval, y_pred_validation_eval, cell_names=cell_list, fig=fig, ax=ax,is_validation=True)\n",
    "\n",
    "cell_list = list(set(data_set_eval['df_test'].index.get_level_values(0)))\n",
    "y_pred_test_eval = loaded_model.predict(x_test_eval)\n",
    "fig, ax = eisplot.cell_scatter(data_set_eval, y_pred_test_eval, cell_names=cell_list, fig=fig, ax=ax,is_test=True)\n",
    "\n",
    "\n",
    "legend_elements = [ mpl.lines.Line2D([0], [0], color=eisplot.rwth_colors.colors[('green', 100)], label='ideal'),\n",
    "                    mpl.lines.Line2D([0], [0], marker='.', linestyle='', color=eisplot.rwth_colors.colors[('blue', 100)], label='train', alpha=0.5),\n",
    "                    mpl.lines.Line2D([0], [0], marker='2', linestyle='', color=eisplot.rwth_colors.colors[('orange', 100)], label='validation', alpha=0.5),\n",
    "                    mpl.lines.Line2D([0], [0], marker='1', linestyle='', color=eisplot.rwth_colors.colors[('lavender', 100)], label='test', alpha=0.5)]\n",
    "ax.legend(handles=legend_elements, loc=\"best\",\n",
    "            scatterpoints=1, prop={\"size\": 8})\n",
    "fig.subplots_adjust(bottom=0.14, left=0.19)"
   ]
  },
  {
   "cell_type": "code",
   "execution_count": null,
   "metadata": {},
   "outputs": [],
   "source": [
    "fig, ax = plt.subplots(1, 1, figsize=(10*cm, 10*cm))\n",
    "\n",
    "if use_arrhenius_correction:\n",
    "    x_min = arrhenius_correction(arrhenius_correction_inverse(np.min([np.min(x_train_eval), np.min(x_validation_eval), np.min(x_test_eval)]))*1.2)\n",
    "    x_max = arrhenius_correction(arrhenius_correction_inverse(np.max([np.max(x_train_eval), np.max(x_validation_eval), np.max(x_test_eval)]))*0.8)\n",
    "else:\n",
    "    x_min = np.min([np.min(x_train_eval), np.min(x_validation_eval), np.min(x_test_eval)])*0.8\n",
    "    x_max = np.max([np.max(x_train_eval), np.max(x_validation_eval), np.max(x_test_eval)])*1.2\n",
    "\n",
    "x_plot = np.linspace(x_min, x_max, 1000)[:, None]\n",
    "\n",
    "y_svr = loaded_model.predict(x_plot)\n",
    "\n",
    "if use_arrhenius_correction:\n",
    "    x_train_eval = arrhenius_correction_inverse(x_train_eval)\n",
    "    x_validation_eval = arrhenius_correction_inverse(x_validation_eval)\n",
    "    x_test_eval = arrhenius_correction_inverse(x_test_eval)\n",
    "    x_plot = arrhenius_correction_inverse(x_plot)\n",
    "\n",
    "\n",
    "ax.plot(x_plot, y_svr, lw=2, label=\"SVR\",\n",
    "        color=eisplot.rwth_colors.colors[('bordeaux', 100)])\n",
    "ax.scatter(x_train_eval, y_train_eval, marker=\".\", label=\"train\",\n",
    "           color=eisplot.rwth_colors.colors[('blue', 100)], alpha=0.5)\n",
    "ax.scatter(x_validation_eval, y_validation_eval, marker=\"2\", label=\"validation\",\n",
    "           color=eisplot.rwth_colors.colors[('orange', 100)], alpha=0.5)\n",
    "ax.scatter(x_test_eval, y_test_eval, marker=\"1\", label=\"test\",\n",
    "           color=eisplot.rwth_colors.colors[('lavender', 100)], alpha=0.5)\n",
    "\n",
    "ax.set_ylabel(\"Output Value\")\n",
    "ax.set_xlabel(\"Input Value\")\n",
    "ax.grid()\n",
    "\n",
    "ax.legend(loc=\"best\", scatterpoints=1, prop={\"size\": 8})\n",
    "fig.subplots_adjust(bottom=0.14, left=0.19)"
   ]
  },
  {
   "cell_type": "markdown",
   "metadata": {},
   "source": [
    "If this result is not the best, further analysis of the results is required"
   ]
  },
  {
   "cell_type": "code",
   "execution_count": null,
   "metadata": {},
   "outputs": [],
   "source": [
    "experiment_list = pd.DataFrame()"
   ]
  },
  {
   "cell_type": "code",
   "execution_count": null,
   "metadata": {},
   "outputs": [],
   "source": [
    "experiment_id = mlflow_exp.experiment_id\n",
    "experiment_id"
   ]
  },
  {
   "cell_type": "code",
   "execution_count": null,
   "metadata": {},
   "outputs": [],
   "source": [
    "for exp in mlflow.search_experiments():\n",
    "    if exp.experiment_id == experiment_id:\n",
    "        experiment_tmp = mlflow.search_runs(experiment_ids=experiment_id)\n",
    "        experiment_list = pd.concat([experiment_list, experiment_tmp])"
   ]
  },
  {
   "cell_type": "code",
   "execution_count": null,
   "metadata": {},
   "outputs": [],
   "source": [
    "experiment_list = experiment_list.reset_index(drop=True)\n",
    "experiment_list.head()"
   ]
  },
  {
   "cell_type": "code",
   "execution_count": null,
   "metadata": {},
   "outputs": [],
   "source": [
    "scatter_values = [experiment_list[\"metrics.train_mse_temp\"].values,\n",
    "                  experiment_list[\"metrics.validation_mse_temp\"].values,\n",
    "                  experiment_list[\"metrics.test_mse_temp\"].values,\n",
    "                  experiment_list[\"params.svm__C\"].values.astype(np.float64),\n",
    "                  experiment_list[\"params.svm__epsilon\"].values.astype(np.float64),\n",
    "                  experiment_list[\"params.svm__tol\"].values.astype(np.float64),\n",
    "                  experiment_list[\"params.svm__gamma\"].values.astype(np.float64)]\n",
    "df_experiment_svr = pd.DataFrame(np.transpose(scatter_values), columns=[\n",
    "                                 \"Train MSE in K\", \"Validation MSE in K\", \"Test MSE in K\", \"C\", \"Epsilon\",\"Tolerance\",\"Gamma\"])"
   ]
  },
  {
   "cell_type": "code",
   "execution_count": null,
   "metadata": {},
   "outputs": [],
   "source": [
    "## limit the error if necessary\n",
    "# df_experiment_svr[df_experiment_svr[\"Test MSE in K\"] > 10] = np.nan"
   ]
  },
  {
   "cell_type": "code",
   "execution_count": null,
   "metadata": {},
   "outputs": [],
   "source": [
    "corr = df_experiment_svr.corr()\n",
    "corr.style.background_gradient(cmap='turbo')"
   ]
  },
  {
   "cell_type": "code",
   "execution_count": null,
   "metadata": {},
   "outputs": [],
   "source": [
    "# fig, axs = plt.subplots(7, 7, figsize=(15*cm, 15*cm),sharex=True)\n",
    "# axs = pd.plotting.scatter_matrix(df_experiment_svr, ax=axs, diagonal='kde')"
   ]
  },
  {
   "cell_type": "code",
   "execution_count": null,
   "metadata": {},
   "outputs": [],
   "source": [
    "df_experiment_svr = df_experiment_svr.dropna()"
   ]
  },
  {
   "cell_type": "code",
   "execution_count": null,
   "metadata": {},
   "outputs": [],
   "source": [
    "fig, axs = plt.subplots(2, 2, figsize=(12*cm, 12*cm),sharex=True)\n",
    "\n",
    "variables = [\"C\", \"Epsilon\",\"Tolerance\",\"Gamma\"]\n",
    "\n",
    "for variable_idx, variable in enumerate(variables):\n",
    "    plot_column  = np.floor(variable_idx/2).astype('int')\n",
    "    plot_row = variable_idx - 2*plot_column\n",
    "\n",
    "    concave_hull_ratio = 0.25\n",
    "\n",
    "    min_error = np.min([df_experiment_svr[\"Train MSE in K\"].values,df_experiment_svr[\"Validation MSE in K\"].values,df_experiment_svr[\"Test MSE in K\"].values])\n",
    "\n",
    "    points = np.vstack((df_experiment_svr[\"Train MSE in K\"].values,df_experiment_svr[variable].values)).T\n",
    "    # axs[plot_column,plot_row].scatter(df_experiment_svr[\"Train MSE in K\"].values,df_experiment_svr[variable].values,c=eisplot.rwth_colors.colors[('blue', 100)], alpha=0.1,marker='.')\n",
    "    points_hull = np.exp(np.array(shapely.concave_hull(shapely.MultiPoint(np.log(points)), ratio=concave_hull_ratio).exterior.coords))\n",
    "    axs[plot_column,plot_row].fill(points_hull[:,0],points_hull[:,1],color=eisplot.rwth_colors.colors[('petrol', 100)], alpha=0.5)\n",
    "\n",
    "    points = np.vstack((df_experiment_svr[\"Validation MSE in K\"].values, df_experiment_svr[variable].values)).T\n",
    "    # axs[plot_column,plot_row].scatter(df_experiment_svr[\"Validation MSE in K\"].values,df_experiment_svr[variable].values,c=eisplot.rwth_colors.colors[('orange', 100)], alpha=0.1,marker='.')\n",
    "    points_hull = np.exp(np.array(shapely.concave_hull(shapely.MultiPoint(np.log(points)), ratio=concave_hull_ratio).exterior.coords))\n",
    "    axs[plot_column,plot_row].fill(points_hull[:,0],points_hull[:,1],color=eisplot.rwth_colors.colors[('turqoise', 100)], alpha=0.5)\n",
    "\n",
    "    points = np.vstack((df_experiment_svr[\"Test MSE in K\"].values, df_experiment_svr[variable].values)).T\n",
    "    # axs[plot_column,plot_row].scatter(df_experiment_svr[\"Test MSE in K\"].values,df_experiment_svr[variable].values,c=eisplot.rwth_colors.colors[('lavender', 100)], alpha=0.1,marker='.')\n",
    "    points_hull = np.exp(np.array(shapely.concave_hull(shapely.MultiPoint(np.log(points)), ratio=concave_hull_ratio).exterior.coords))\n",
    "    axs[plot_column,plot_row].fill(points_hull[:,0],points_hull[:,1],color=eisplot.rwth_colors.colors[('blue', 100)], alpha=0.5)\n",
    "\n",
    "    axs[plot_column,plot_row].set_ylabel(variable)\n",
    "    axs[plot_column,plot_row].set_yscale('log')\n",
    "    axs[plot_column,plot_row].set_xscale('log')\n",
    "    axs[plot_column,plot_row].grid()\n",
    "    axs[plot_column,plot_row].set_xlim([min_error*0.8,200])\n",
    "\n",
    "\n",
    "\n",
    "\n",
    "legend_elements = [ mpl.lines.Line2D([0], [0], marker='', linestyle='-', color=eisplot.rwth_colors.colors[('petrol', 100)], label='train', alpha=0.5),\n",
    "                    mpl.lines.Line2D([0], [0], marker='', linestyle='-', color=eisplot.rwth_colors.colors[('turqoise', 100)], label='validation', alpha=0.5),\n",
    "                    mpl.lines.Line2D([0], [0], marker='', linestyle='-', color=eisplot.rwth_colors.colors[('blue', 100)], label='test', alpha=0.5),\n",
    "                    mpl.lines.Line2D([0], [0], marker='', linestyle=':', color=eisplot.rwth_colors.colors[('darkred', 100)], label='selected value', alpha=1.0)]\n",
    "fig.legend(handles=legend_elements,  loc='upper center',\n",
    "            scatterpoints=1, prop={\"size\": 8}, ncol=4)\n",
    "\n",
    "\n",
    "axs[1,0].set_xlabel('MSE in K',size=8)\n",
    "axs[1,1].set_xlabel('MSE in K',size=8)\n",
    "fig.tight_layout()\n",
    "\n",
    "x_values = np.array(axs[0,0].get_xlim())*0.95\n",
    "\n",
    "axs[0,0].plot(x_values,[float(run_eval.data.params[\"svm__C\"]),float(run_eval.data.params[\"svm__C\"])],linestyle=':',color=eisplot.rwth_colors.colors[('darkred', 100)])\n",
    "axs[0,1].plot(x_values,[float(run_eval.data.params[\"svm__epsilon\"]),float(run_eval.data.params[\"svm__epsilon\"])],linestyle=':',color=eisplot.rwth_colors.colors[('darkred', 100)])\n",
    "axs[1,0].plot(x_values,[float(run_eval.data.params[\"svm__tol\"]),float(run_eval.data.params[\"svm__tol\"])],linestyle=':',color=eisplot.rwth_colors.colors[('darkred', 100)])\n",
    "axs[1,1].plot(x_values,[float(run_eval.data.params[\"svm__gamma\"]),float(run_eval.data.params[\"svm__gamma\"])],linestyle=':',color=eisplot.rwth_colors.colors[('darkred', 100)])\n",
    "\n",
    "fig.subplots_adjust(top=0.9)"
   ]
  },
  {
   "cell_type": "code",
   "execution_count": null,
   "metadata": {},
   "outputs": [],
   "source": [
    "destination_filepath = r\"./mlruns/\"+name_of_this_run+'_ExpID_'+mlflow.get_experiment_by_name(experiment_name).experiment_id+\".parquet\"\n",
    "experiment_list.to_parquet(destination_filepath, compression='gzip', index=True)"
   ]
  },
  {
   "cell_type": "code",
   "execution_count": null,
   "metadata": {},
   "outputs": [],
   "source": []
  }
 ],
 "metadata": {
  "kernelspec": {
   "display_name": "Python 3 (ipykernel)",
   "language": "python",
   "name": "python3"
  },
  "language_info": {
   "codemirror_mode": {
    "name": "ipython",
    "version": 3
   },
   "file_extension": ".py",
   "mimetype": "text/x-python",
   "name": "python",
   "nbconvert_exporter": "python",
   "pygments_lexer": "ipython3",
   "version": "3.11.9"
  },
  "vscode": {
   "interpreter": {
    "hash": "05d28ba11f89102f70830e5c492d80edd1401f4565ce2c5eed021df0239ed7ac"
   }
  }
 },
 "nbformat": 4,
 "nbformat_minor": 4
}
